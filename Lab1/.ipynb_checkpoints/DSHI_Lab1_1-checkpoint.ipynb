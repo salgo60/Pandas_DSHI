{
 "cells": [
  {
   "cell_type": "markdown",
   "id": "79274496",
   "metadata": {},
   "source": [
    "## Lab 1 - Data Analysis about Arrythmia\n",
    "Denna [Notebook](https://github.com/salgo60/Pandas_DSHI/blob/main/Lab1/DSHI_Lab1_1_eng.ipynb)\n",
    "\n",
    "* 0.1 korrigerat mean \n",
    "* 0.2 England "
   ]
  },
  {
   "cell_type": "code",
   "execution_count": 1,
   "id": "393f547d",
   "metadata": {},
   "outputs": [
    {
     "name": "stdout",
     "output_type": "stream",
     "text": [
      "Last run:  2023-03-27 14:19:50.414113\n"
     ]
    }
   ],
   "source": [
    "from datetime import datetime\n",
    "start_time  = datetime.now()\n",
    "print(\"Last run: \", start_time)"
   ]
  },
  {
   "cell_type": "code",
   "execution_count": 2,
   "id": "87643db3",
   "metadata": {},
   "outputs": [],
   "source": [
    "student_name = \"Michel Laji\"\n",
    "student_id = \"cl3z\"\n",
    "student_background = \"health\""
   ]
  },
  {
   "cell_type": "markdown",
   "id": "e7b4894d",
   "metadata": {},
   "source": [
    "The domain area is Acute myocardial infarction: incidence rate in Scotland 2004-2021, by gender.\n",
    "The purpose to study the correlation between gender and Myocardial infarction\n",
    "\n"
   ]
  },
  {
   "cell_type": "markdown",
   "id": "0e73dfeb",
   "metadata": {},
   "source": [
    "Number of Datasets: 17\n",
    "Data format: excel\n",
    "Headers or describing: 3 \n",
    "Values separated by: Cells\n",
    "Do you need to load and analyze all the files: None"
   ]
  },
  {
   "cell_type": "markdown",
   "id": "5ec6671c",
   "metadata": {},
   "source": [
    "Features: 2\n",
    "Observations: 17"
   ]
  },
  {
   "cell_type": "markdown",
   "id": "b2fcd72e",
   "metadata": {},
   "source": [
    "Numerical features: Yes\n",
    "Number of numerical features: 2\n",
    "Names of features: Men Women (Gender)\n",
    "Ordinal or nominal: Nominal\n"
   ]
  },
  {
   "cell_type": "markdown",
   "id": "8020f79b",
   "metadata": {},
   "source": [
    "Categorical Features: Yes\n",
    "Numbers of Categorical Features: 1\n",
    "Name of the Categorical Features: Characteristics (Year)\n",
    "Ordinal or Nominal: Ordinal"
   ]
  },
  {
   "cell_type": "markdown",
   "id": "9e043d3d",
   "metadata": {},
   "source": [
    "Binary features: No\n",
    "Number of Binary Features: None\n",
    "What binary features could be added: Previous Myocardial Infarction"
   ]
  },
  {
   "cell_type": "code",
   "execution_count": 3,
   "id": "cb71fccd",
   "metadata": {},
   "outputs": [],
   "source": [
    "import numpy as np\n",
    "import pandas as pd\n",
    "import matplotlib.pyplot as plt\n"
   ]
  },
  {
   "cell_type": "code",
   "execution_count": 4,
   "id": "41e24841",
   "metadata": {
    "scrolled": true
   },
   "outputs": [
    {
     "data": {
      "text/html": [
       "<div>\n",
       "<style scoped>\n",
       "    .dataframe tbody tr th:only-of-type {\n",
       "        vertical-align: middle;\n",
       "    }\n",
       "\n",
       "    .dataframe tbody tr th {\n",
       "        vertical-align: top;\n",
       "    }\n",
       "\n",
       "    .dataframe thead th {\n",
       "        text-align: right;\n",
       "    }\n",
       "</style>\n",
       "<table border=\"1\" class=\"dataframe\">\n",
       "  <thead>\n",
       "    <tr style=\"text-align: right;\">\n",
       "      <th></th>\n",
       "      <th>YEAR</th>\n",
       "      <th>Filename</th>\n",
       "      <th>ORG_TYPE_DESCRIPTION</th>\n",
       "      <th>ORG_CODE</th>\n",
       "      <th>NEW_CODE</th>\n",
       "      <th>ORG_TITLE</th>\n",
       "      <th>SEX_CODE</th>\n",
       "      <th>OBS</th>\n",
       "      <th>DSR</th>\n",
       "      <th>LOWER</th>\n",
       "      <th>UPPER</th>\n",
       "    </tr>\n",
       "  </thead>\n",
       "  <tbody>\n",
       "    <tr>\n",
       "      <th>0</th>\n",
       "      <td>2020</td>\n",
       "      <td>09B_055DR00++</td>\n",
       "      <td>NATIONAL</td>\n",
       "      <td>E&amp;W</td>\n",
       "      <td>K04000001</td>\n",
       "      <td>England and Wales</td>\n",
       "      <td>M</td>\n",
       "      <td>35915</td>\n",
       "      <td>47.37</td>\n",
       "      <td>46.88</td>\n",
       "      <td>47.87</td>\n",
       "    </tr>\n",
       "    <tr>\n",
       "      <th>1</th>\n",
       "      <td>2020</td>\n",
       "      <td>09B_055DR00++</td>\n",
       "      <td>NATIONAL</td>\n",
       "      <td>E&amp;W</td>\n",
       "      <td>K04000001</td>\n",
       "      <td>England and Wales</td>\n",
       "      <td>F</td>\n",
       "      <td>21690</td>\n",
       "      <td>22.09</td>\n",
       "      <td>21.80</td>\n",
       "      <td>22.39</td>\n",
       "    </tr>\n",
       "    <tr>\n",
       "      <th>2</th>\n",
       "      <td>2020</td>\n",
       "      <td>09B_055DR00++</td>\n",
       "      <td>NATIONAL</td>\n",
       "      <td>E&amp;W</td>\n",
       "      <td>K04000001</td>\n",
       "      <td>England and Wales</td>\n",
       "      <td>P</td>\n",
       "      <td>57605</td>\n",
       "      <td>33.62</td>\n",
       "      <td>33.35</td>\n",
       "      <td>33.90</td>\n",
       "    </tr>\n",
       "    <tr>\n",
       "      <th>3</th>\n",
       "      <td>2020</td>\n",
       "      <td>09B_055DR00++</td>\n",
       "      <td>NATIONAL</td>\n",
       "      <td>ENG</td>\n",
       "      <td>E92000001</td>\n",
       "      <td>England</td>\n",
       "      <td>M</td>\n",
       "      <td>33545</td>\n",
       "      <td>47.00</td>\n",
       "      <td>46.49</td>\n",
       "      <td>47.51</td>\n",
       "    </tr>\n",
       "    <tr>\n",
       "      <th>4</th>\n",
       "      <td>2020</td>\n",
       "      <td>09B_055DR00++</td>\n",
       "      <td>NATIONAL</td>\n",
       "      <td>ENG</td>\n",
       "      <td>E92000001</td>\n",
       "      <td>England</td>\n",
       "      <td>F</td>\n",
       "      <td>20290</td>\n",
       "      <td>21.94</td>\n",
       "      <td>21.63</td>\n",
       "      <td>22.24</td>\n",
       "    </tr>\n",
       "  </tbody>\n",
       "</table>\n",
       "</div>"
      ],
      "text/plain": [
       "   YEAR       Filename ORG_TYPE_DESCRIPTION ORG_CODE   NEW_CODE  \\\n",
       "0  2020  09B_055DR00++             NATIONAL      E&W  K04000001   \n",
       "1  2020  09B_055DR00++             NATIONAL      E&W  K04000001   \n",
       "2  2020  09B_055DR00++             NATIONAL      E&W  K04000001   \n",
       "3  2020  09B_055DR00++             NATIONAL      ENG  E92000001   \n",
       "4  2020  09B_055DR00++             NATIONAL      ENG  E92000001   \n",
       "\n",
       "           ORG_TITLE SEX_CODE    OBS    DSR  LOWER  UPPER  \n",
       "0  England and Wales        M  35915  47.37  46.88  47.87  \n",
       "1  England and Wales        F  21690  22.09  21.80  22.39  \n",
       "2  England and Wales        P  57605  33.62  33.35  33.90  \n",
       "3            England        M  33545  47.00  46.49  47.51  \n",
       "4            England        F  20290  21.94  21.63  22.24  "
      ]
     },
     "execution_count": 4,
     "metadata": {},
     "output_type": "execute_result"
    }
   ],
   "source": [
    "df = pd.read_csv(\"Klara.csv\")\n",
    "df.head()"
   ]
  },
  {
   "cell_type": "code",
   "execution_count": 5,
   "id": "abf31ff4",
   "metadata": {
    "scrolled": true
   },
   "outputs": [
    {
     "data": {
      "text/plain": [
       "(1074, 11)"
      ]
     },
     "execution_count": 5,
     "metadata": {},
     "output_type": "execute_result"
    }
   ],
   "source": [
    "df.shape"
   ]
  },
  {
   "cell_type": "code",
   "execution_count": 6,
   "id": "26c70824",
   "metadata": {},
   "outputs": [
    {
     "data": {
      "text/plain": [
       "YEAR                      int64\n",
       "Filename                 object\n",
       "ORG_TYPE_DESCRIPTION     object\n",
       "ORG_CODE                 object\n",
       "NEW_CODE                 object\n",
       "ORG_TITLE                object\n",
       "SEX_CODE                 object\n",
       "OBS                       int64\n",
       "DSR                     float64\n",
       "LOWER                   float64\n",
       "UPPER                   float64\n",
       "dtype: object"
      ]
     },
     "execution_count": 6,
     "metadata": {},
     "output_type": "execute_result"
    }
   ],
   "source": [
    "df.dtypes"
   ]
  },
  {
   "cell_type": "code",
   "execution_count": 7,
   "id": "ecaba941",
   "metadata": {
    "scrolled": true
   },
   "outputs": [
    {
     "data": {
      "text/html": [
       "<div>\n",
       "<style scoped>\n",
       "    .dataframe tbody tr th:only-of-type {\n",
       "        vertical-align: middle;\n",
       "    }\n",
       "\n",
       "    .dataframe tbody tr th {\n",
       "        vertical-align: top;\n",
       "    }\n",
       "\n",
       "    .dataframe thead th {\n",
       "        text-align: right;\n",
       "    }\n",
       "</style>\n",
       "<table border=\"1\" class=\"dataframe\">\n",
       "  <thead>\n",
       "    <tr style=\"text-align: right;\">\n",
       "      <th></th>\n",
       "      <th>YEAR</th>\n",
       "      <th>Filename</th>\n",
       "      <th>ORG_CODE</th>\n",
       "      <th>NEW_CODE</th>\n",
       "      <th>ORG_TITLE</th>\n",
       "      <th>SEX_CODE</th>\n",
       "      <th>OBS</th>\n",
       "      <th>DSR</th>\n",
       "      <th>LOWER</th>\n",
       "      <th>UPPER</th>\n",
       "    </tr>\n",
       "  </thead>\n",
       "  <tbody>\n",
       "    <tr>\n",
       "      <th>0</th>\n",
       "      <td>2020</td>\n",
       "      <td>09B_055DR00++</td>\n",
       "      <td>E&amp;W</td>\n",
       "      <td>K04000001</td>\n",
       "      <td>England and Wales</td>\n",
       "      <td>M</td>\n",
       "      <td>35915</td>\n",
       "      <td>47.37</td>\n",
       "      <td>46.88</td>\n",
       "      <td>47.87</td>\n",
       "    </tr>\n",
       "    <tr>\n",
       "      <th>1</th>\n",
       "      <td>2020</td>\n",
       "      <td>09B_055DR00++</td>\n",
       "      <td>E&amp;W</td>\n",
       "      <td>K04000001</td>\n",
       "      <td>England and Wales</td>\n",
       "      <td>F</td>\n",
       "      <td>21690</td>\n",
       "      <td>22.09</td>\n",
       "      <td>21.80</td>\n",
       "      <td>22.39</td>\n",
       "    </tr>\n",
       "    <tr>\n",
       "      <th>2</th>\n",
       "      <td>2020</td>\n",
       "      <td>09B_055DR00++</td>\n",
       "      <td>E&amp;W</td>\n",
       "      <td>K04000001</td>\n",
       "      <td>England and Wales</td>\n",
       "      <td>P</td>\n",
       "      <td>57605</td>\n",
       "      <td>33.62</td>\n",
       "      <td>33.35</td>\n",
       "      <td>33.90</td>\n",
       "    </tr>\n",
       "    <tr>\n",
       "      <th>3</th>\n",
       "      <td>2020</td>\n",
       "      <td>09B_055DR00++</td>\n",
       "      <td>ENG</td>\n",
       "      <td>E92000001</td>\n",
       "      <td>England</td>\n",
       "      <td>M</td>\n",
       "      <td>33545</td>\n",
       "      <td>47.00</td>\n",
       "      <td>46.49</td>\n",
       "      <td>47.51</td>\n",
       "    </tr>\n",
       "    <tr>\n",
       "      <th>4</th>\n",
       "      <td>2020</td>\n",
       "      <td>09B_055DR00++</td>\n",
       "      <td>ENG</td>\n",
       "      <td>E92000001</td>\n",
       "      <td>England</td>\n",
       "      <td>F</td>\n",
       "      <td>20290</td>\n",
       "      <td>21.94</td>\n",
       "      <td>21.63</td>\n",
       "      <td>22.24</td>\n",
       "    </tr>\n",
       "    <tr>\n",
       "      <th>...</th>\n",
       "      <td>...</td>\n",
       "      <td>...</td>\n",
       "      <td>...</td>\n",
       "      <td>...</td>\n",
       "      <td>...</td>\n",
       "      <td>...</td>\n",
       "      <td>...</td>\n",
       "      <td>...</td>\n",
       "      <td>...</td>\n",
       "      <td>...</td>\n",
       "    </tr>\n",
       "    <tr>\n",
       "      <th>1069</th>\n",
       "      <td>2020</td>\n",
       "      <td>09B_055DR00++</td>\n",
       "      <td>Lon1</td>\n",
       "      <td>E13000001</td>\n",
       "      <td>Inner London</td>\n",
       "      <td>F</td>\n",
       "      <td>590</td>\n",
       "      <td>18.94</td>\n",
       "      <td>17.43</td>\n",
       "      <td>20.54</td>\n",
       "    </tr>\n",
       "    <tr>\n",
       "      <th>1070</th>\n",
       "      <td>2020</td>\n",
       "      <td>09B_055DR00++</td>\n",
       "      <td>Lon1</td>\n",
       "      <td>E13000001</td>\n",
       "      <td>Inner London</td>\n",
       "      <td>P</td>\n",
       "      <td>1735</td>\n",
       "      <td>29.71</td>\n",
       "      <td>28.30</td>\n",
       "      <td>31.18</td>\n",
       "    </tr>\n",
       "    <tr>\n",
       "      <th>1071</th>\n",
       "      <td>2020</td>\n",
       "      <td>09B_055DR00++</td>\n",
       "      <td>Lon2</td>\n",
       "      <td>E13000002</td>\n",
       "      <td>Outer London</td>\n",
       "      <td>M</td>\n",
       "      <td>2355</td>\n",
       "      <td>43.90</td>\n",
       "      <td>42.12</td>\n",
       "      <td>45.74</td>\n",
       "    </tr>\n",
       "    <tr>\n",
       "      <th>1072</th>\n",
       "      <td>2020</td>\n",
       "      <td>09B_055DR00++</td>\n",
       "      <td>Lon2</td>\n",
       "      <td>E13000002</td>\n",
       "      <td>Outer London</td>\n",
       "      <td>F</td>\n",
       "      <td>1440</td>\n",
       "      <td>20.63</td>\n",
       "      <td>19.57</td>\n",
       "      <td>21.73</td>\n",
       "    </tr>\n",
       "    <tr>\n",
       "      <th>1073</th>\n",
       "      <td>2020</td>\n",
       "      <td>09B_055DR00++</td>\n",
       "      <td>Lon2</td>\n",
       "      <td>E13000002</td>\n",
       "      <td>Outer London</td>\n",
       "      <td>P</td>\n",
       "      <td>3795</td>\n",
       "      <td>31.20</td>\n",
       "      <td>30.21</td>\n",
       "      <td>32.22</td>\n",
       "    </tr>\n",
       "  </tbody>\n",
       "</table>\n",
       "<p>1074 rows × 10 columns</p>\n",
       "</div>"
      ],
      "text/plain": [
       "      YEAR       Filename ORG_CODE   NEW_CODE          ORG_TITLE SEX_CODE  \\\n",
       "0     2020  09B_055DR00++      E&W  K04000001  England and Wales        M   \n",
       "1     2020  09B_055DR00++      E&W  K04000001  England and Wales        F   \n",
       "2     2020  09B_055DR00++      E&W  K04000001  England and Wales        P   \n",
       "3     2020  09B_055DR00++      ENG  E92000001            England        M   \n",
       "4     2020  09B_055DR00++      ENG  E92000001            England        F   \n",
       "...    ...            ...      ...        ...                ...      ...   \n",
       "1069  2020  09B_055DR00++     Lon1  E13000001       Inner London        F   \n",
       "1070  2020  09B_055DR00++     Lon1  E13000001       Inner London        P   \n",
       "1071  2020  09B_055DR00++     Lon2  E13000002       Outer London        M   \n",
       "1072  2020  09B_055DR00++     Lon2  E13000002       Outer London        F   \n",
       "1073  2020  09B_055DR00++     Lon2  E13000002       Outer London        P   \n",
       "\n",
       "        OBS    DSR  LOWER  UPPER  \n",
       "0     35915  47.37  46.88  47.87  \n",
       "1     21690  22.09  21.80  22.39  \n",
       "2     57605  33.62  33.35  33.90  \n",
       "3     33545  47.00  46.49  47.51  \n",
       "4     20290  21.94  21.63  22.24  \n",
       "...     ...    ...    ...    ...  \n",
       "1069    590  18.94  17.43  20.54  \n",
       "1070   1735  29.71  28.30  31.18  \n",
       "1071   2355  43.90  42.12  45.74  \n",
       "1072   1440  20.63  19.57  21.73  \n",
       "1073   3795  31.20  30.21  32.22  \n",
       "\n",
       "[1074 rows x 10 columns]"
      ]
     },
     "execution_count": 7,
     "metadata": {},
     "output_type": "execute_result"
    }
   ],
   "source": [
    "columns_to_delete = [\"ORG_TYPE_DESCRIPTION\"]\n",
    "df_processed = df.drop(columns_to_delete, axis=1)\n",
    "df_processed"
   ]
  },
  {
   "cell_type": "code",
   "execution_count": 8,
   "id": "992e6183",
   "metadata": {
    "scrolled": true
   },
   "outputs": [
    {
     "data": {
      "text/html": [
       "<div>\n",
       "<style scoped>\n",
       "    .dataframe tbody tr th:only-of-type {\n",
       "        vertical-align: middle;\n",
       "    }\n",
       "\n",
       "    .dataframe tbody tr th {\n",
       "        vertical-align: top;\n",
       "    }\n",
       "\n",
       "    .dataframe thead th {\n",
       "        text-align: right;\n",
       "    }\n",
       "</style>\n",
       "<table border=\"1\" class=\"dataframe\">\n",
       "  <thead>\n",
       "    <tr style=\"text-align: right;\">\n",
       "      <th></th>\n",
       "      <th>YEAR</th>\n",
       "      <th>Filename</th>\n",
       "      <th>Geographic_level</th>\n",
       "      <th>ORG_CODE</th>\n",
       "      <th>NEW_CODE</th>\n",
       "      <th>Geographic_Location</th>\n",
       "      <th>SEX</th>\n",
       "      <th>OBS</th>\n",
       "      <th>DSR</th>\n",
       "      <th>LOWER</th>\n",
       "      <th>UPPER</th>\n",
       "    </tr>\n",
       "  </thead>\n",
       "  <tbody>\n",
       "    <tr>\n",
       "      <th>0</th>\n",
       "      <td>2020</td>\n",
       "      <td>09B_055DR00++</td>\n",
       "      <td>NATIONAL</td>\n",
       "      <td>E&amp;W</td>\n",
       "      <td>K04000001</td>\n",
       "      <td>England and Wales</td>\n",
       "      <td>M</td>\n",
       "      <td>35915</td>\n",
       "      <td>47.37</td>\n",
       "      <td>46.88</td>\n",
       "      <td>47.87</td>\n",
       "    </tr>\n",
       "    <tr>\n",
       "      <th>1</th>\n",
       "      <td>2020</td>\n",
       "      <td>09B_055DR00++</td>\n",
       "      <td>NATIONAL</td>\n",
       "      <td>E&amp;W</td>\n",
       "      <td>K04000001</td>\n",
       "      <td>England and Wales</td>\n",
       "      <td>F</td>\n",
       "      <td>21690</td>\n",
       "      <td>22.09</td>\n",
       "      <td>21.80</td>\n",
       "      <td>22.39</td>\n",
       "    </tr>\n",
       "    <tr>\n",
       "      <th>2</th>\n",
       "      <td>2020</td>\n",
       "      <td>09B_055DR00++</td>\n",
       "      <td>NATIONAL</td>\n",
       "      <td>E&amp;W</td>\n",
       "      <td>K04000001</td>\n",
       "      <td>England and Wales</td>\n",
       "      <td>P</td>\n",
       "      <td>57605</td>\n",
       "      <td>33.62</td>\n",
       "      <td>33.35</td>\n",
       "      <td>33.90</td>\n",
       "    </tr>\n",
       "    <tr>\n",
       "      <th>3</th>\n",
       "      <td>2020</td>\n",
       "      <td>09B_055DR00++</td>\n",
       "      <td>NATIONAL</td>\n",
       "      <td>ENG</td>\n",
       "      <td>E92000001</td>\n",
       "      <td>England</td>\n",
       "      <td>M</td>\n",
       "      <td>33545</td>\n",
       "      <td>47.00</td>\n",
       "      <td>46.49</td>\n",
       "      <td>47.51</td>\n",
       "    </tr>\n",
       "    <tr>\n",
       "      <th>4</th>\n",
       "      <td>2020</td>\n",
       "      <td>09B_055DR00++</td>\n",
       "      <td>NATIONAL</td>\n",
       "      <td>ENG</td>\n",
       "      <td>E92000001</td>\n",
       "      <td>England</td>\n",
       "      <td>F</td>\n",
       "      <td>20290</td>\n",
       "      <td>21.94</td>\n",
       "      <td>21.63</td>\n",
       "      <td>22.24</td>\n",
       "    </tr>\n",
       "    <tr>\n",
       "      <th>...</th>\n",
       "      <td>...</td>\n",
       "      <td>...</td>\n",
       "      <td>...</td>\n",
       "      <td>...</td>\n",
       "      <td>...</td>\n",
       "      <td>...</td>\n",
       "      <td>...</td>\n",
       "      <td>...</td>\n",
       "      <td>...</td>\n",
       "      <td>...</td>\n",
       "      <td>...</td>\n",
       "    </tr>\n",
       "    <tr>\n",
       "      <th>1069</th>\n",
       "      <td>2020</td>\n",
       "      <td>09B_055DR00++</td>\n",
       "      <td>LONDON AUTHORITIES (boundaries as of April 2009)</td>\n",
       "      <td>Lon1</td>\n",
       "      <td>E13000001</td>\n",
       "      <td>Inner London</td>\n",
       "      <td>F</td>\n",
       "      <td>590</td>\n",
       "      <td>18.94</td>\n",
       "      <td>17.43</td>\n",
       "      <td>20.54</td>\n",
       "    </tr>\n",
       "    <tr>\n",
       "      <th>1070</th>\n",
       "      <td>2020</td>\n",
       "      <td>09B_055DR00++</td>\n",
       "      <td>LONDON AUTHORITIES (boundaries as of April 2009)</td>\n",
       "      <td>Lon1</td>\n",
       "      <td>E13000001</td>\n",
       "      <td>Inner London</td>\n",
       "      <td>P</td>\n",
       "      <td>1735</td>\n",
       "      <td>29.71</td>\n",
       "      <td>28.30</td>\n",
       "      <td>31.18</td>\n",
       "    </tr>\n",
       "    <tr>\n",
       "      <th>1071</th>\n",
       "      <td>2020</td>\n",
       "      <td>09B_055DR00++</td>\n",
       "      <td>LONDON AUTHORITIES (boundaries as of April 2009)</td>\n",
       "      <td>Lon2</td>\n",
       "      <td>E13000002</td>\n",
       "      <td>Outer London</td>\n",
       "      <td>M</td>\n",
       "      <td>2355</td>\n",
       "      <td>43.90</td>\n",
       "      <td>42.12</td>\n",
       "      <td>45.74</td>\n",
       "    </tr>\n",
       "    <tr>\n",
       "      <th>1072</th>\n",
       "      <td>2020</td>\n",
       "      <td>09B_055DR00++</td>\n",
       "      <td>LONDON AUTHORITIES (boundaries as of April 2009)</td>\n",
       "      <td>Lon2</td>\n",
       "      <td>E13000002</td>\n",
       "      <td>Outer London</td>\n",
       "      <td>F</td>\n",
       "      <td>1440</td>\n",
       "      <td>20.63</td>\n",
       "      <td>19.57</td>\n",
       "      <td>21.73</td>\n",
       "    </tr>\n",
       "    <tr>\n",
       "      <th>1073</th>\n",
       "      <td>2020</td>\n",
       "      <td>09B_055DR00++</td>\n",
       "      <td>LONDON AUTHORITIES (boundaries as of April 2009)</td>\n",
       "      <td>Lon2</td>\n",
       "      <td>E13000002</td>\n",
       "      <td>Outer London</td>\n",
       "      <td>P</td>\n",
       "      <td>3795</td>\n",
       "      <td>31.20</td>\n",
       "      <td>30.21</td>\n",
       "      <td>32.22</td>\n",
       "    </tr>\n",
       "  </tbody>\n",
       "</table>\n",
       "<p>1074 rows × 11 columns</p>\n",
       "</div>"
      ],
      "text/plain": [
       "      YEAR       Filename                                  Geographic_level  \\\n",
       "0     2020  09B_055DR00++                                          NATIONAL   \n",
       "1     2020  09B_055DR00++                                          NATIONAL   \n",
       "2     2020  09B_055DR00++                                          NATIONAL   \n",
       "3     2020  09B_055DR00++                                          NATIONAL   \n",
       "4     2020  09B_055DR00++                                          NATIONAL   \n",
       "...    ...            ...                                               ...   \n",
       "1069  2020  09B_055DR00++  LONDON AUTHORITIES (boundaries as of April 2009)   \n",
       "1070  2020  09B_055DR00++  LONDON AUTHORITIES (boundaries as of April 2009)   \n",
       "1071  2020  09B_055DR00++  LONDON AUTHORITIES (boundaries as of April 2009)   \n",
       "1072  2020  09B_055DR00++  LONDON AUTHORITIES (boundaries as of April 2009)   \n",
       "1073  2020  09B_055DR00++  LONDON AUTHORITIES (boundaries as of April 2009)   \n",
       "\n",
       "     ORG_CODE   NEW_CODE Geographic_Location SEX    OBS    DSR  LOWER  UPPER  \n",
       "0         E&W  K04000001   England and Wales   M  35915  47.37  46.88  47.87  \n",
       "1         E&W  K04000001   England and Wales   F  21690  22.09  21.80  22.39  \n",
       "2         E&W  K04000001   England and Wales   P  57605  33.62  33.35  33.90  \n",
       "3         ENG  E92000001             England   M  33545  47.00  46.49  47.51  \n",
       "4         ENG  E92000001             England   F  20290  21.94  21.63  22.24  \n",
       "...       ...        ...                 ...  ..    ...    ...    ...    ...  \n",
       "1069     Lon1  E13000001        Inner London   F    590  18.94  17.43  20.54  \n",
       "1070     Lon1  E13000001        Inner London   P   1735  29.71  28.30  31.18  \n",
       "1071     Lon2  E13000002        Outer London   M   2355  43.90  42.12  45.74  \n",
       "1072     Lon2  E13000002        Outer London   F   1440  20.63  19.57  21.73  \n",
       "1073     Lon2  E13000002        Outer London   P   3795  31.20  30.21  32.22  \n",
       "\n",
       "[1074 rows x 11 columns]"
      ]
     },
     "execution_count": 8,
     "metadata": {},
     "output_type": "execute_result"
    }
   ],
   "source": [
    "dfRenamed = df.rename(columns={\n",
    "                          \"ORG_TITLE\":\"Geographic_Location\",\n",
    "                          \"SEX_CODE\": \"SEX\",\n",
    "                        \"ORG_TYPE_DESCRIPTION\": \"Geographic_level\", \n",
    "                          })\n",
    "dfRenamed"
   ]
  },
  {
   "cell_type": "code",
   "execution_count": 9,
   "id": "c2519a77",
   "metadata": {},
   "outputs": [
    {
     "data": {
      "text/html": [
       "<div>\n",
       "<style scoped>\n",
       "    .dataframe tbody tr th:only-of-type {\n",
       "        vertical-align: middle;\n",
       "    }\n",
       "\n",
       "    .dataframe tbody tr th {\n",
       "        vertical-align: top;\n",
       "    }\n",
       "\n",
       "    .dataframe thead th {\n",
       "        text-align: right;\n",
       "    }\n",
       "</style>\n",
       "<table border=\"1\" class=\"dataframe\">\n",
       "  <thead>\n",
       "    <tr style=\"text-align: right;\">\n",
       "      <th></th>\n",
       "      <th>YEAR</th>\n",
       "      <th>OBS</th>\n",
       "      <th>DSR</th>\n",
       "      <th>LOWER</th>\n",
       "      <th>UPPER</th>\n",
       "    </tr>\n",
       "  </thead>\n",
       "  <tbody>\n",
       "    <tr>\n",
       "      <th>count</th>\n",
       "      <td>1074.0</td>\n",
       "      <td>1074.000000</td>\n",
       "      <td>1070.000000</td>\n",
       "      <td>1070.000000</td>\n",
       "      <td>1070.000000</td>\n",
       "    </tr>\n",
       "    <tr>\n",
       "      <th>mean</th>\n",
       "      <td>2020.0</td>\n",
       "      <td>492.462756</td>\n",
       "      <td>33.527047</td>\n",
       "      <td>27.531000</td>\n",
       "      <td>40.628692</td>\n",
       "    </tr>\n",
       "    <tr>\n",
       "      <th>std</th>\n",
       "      <td>0.0</td>\n",
       "      <td>3047.305941</td>\n",
       "      <td>14.041841</td>\n",
       "      <td>12.640997</td>\n",
       "      <td>16.002617</td>\n",
       "    </tr>\n",
       "    <tr>\n",
       "      <th>min</th>\n",
       "      <td>2020.0</td>\n",
       "      <td>5.000000</td>\n",
       "      <td>7.010000</td>\n",
       "      <td>3.610000</td>\n",
       "      <td>12.270000</td>\n",
       "    </tr>\n",
       "    <tr>\n",
       "      <th>25%</th>\n",
       "      <td>2020.0</td>\n",
       "      <td>55.000000</td>\n",
       "      <td>23.005000</td>\n",
       "      <td>18.110000</td>\n",
       "      <td>28.320000</td>\n",
       "    </tr>\n",
       "    <tr>\n",
       "      <th>50%</th>\n",
       "      <td>2020.0</td>\n",
       "      <td>100.000000</td>\n",
       "      <td>31.195000</td>\n",
       "      <td>25.895000</td>\n",
       "      <td>37.530000</td>\n",
       "    </tr>\n",
       "    <tr>\n",
       "      <th>75%</th>\n",
       "      <td>2020.0</td>\n",
       "      <td>180.000000</td>\n",
       "      <td>42.212500</td>\n",
       "      <td>35.232500</td>\n",
       "      <td>50.385000</td>\n",
       "    </tr>\n",
       "    <tr>\n",
       "      <th>max</th>\n",
       "      <td>2020.0</td>\n",
       "      <td>57605.000000</td>\n",
       "      <td>94.960000</td>\n",
       "      <td>77.430000</td>\n",
       "      <td>115.100000</td>\n",
       "    </tr>\n",
       "  </tbody>\n",
       "</table>\n",
       "</div>"
      ],
      "text/plain": [
       "         YEAR           OBS          DSR        LOWER        UPPER\n",
       "count  1074.0   1074.000000  1070.000000  1070.000000  1070.000000\n",
       "mean   2020.0    492.462756    33.527047    27.531000    40.628692\n",
       "std       0.0   3047.305941    14.041841    12.640997    16.002617\n",
       "min    2020.0      5.000000     7.010000     3.610000    12.270000\n",
       "25%    2020.0     55.000000    23.005000    18.110000    28.320000\n",
       "50%    2020.0    100.000000    31.195000    25.895000    37.530000\n",
       "75%    2020.0    180.000000    42.212500    35.232500    50.385000\n",
       "max    2020.0  57605.000000    94.960000    77.430000   115.100000"
      ]
     },
     "execution_count": 9,
     "metadata": {},
     "output_type": "execute_result"
    }
   ],
   "source": [
    "dfRenamed.describe()"
   ]
  },
  {
   "cell_type": "code",
   "execution_count": 10,
   "id": "cf8fc216",
   "metadata": {},
   "outputs": [],
   "source": [
    "#df[ [\"ORG_TYPE_DESCRIPTION\",\"SEX\"] ].describe()"
   ]
  },
  {
   "cell_type": "code",
   "execution_count": 11,
   "id": "d72379da",
   "metadata": {},
   "outputs": [
    {
     "data": {
      "text/plain": [
       "YEAR                   0\n",
       "Filename               0\n",
       "Geographic_level       0\n",
       "ORG_CODE               0\n",
       "NEW_CODE               0\n",
       "Geographic_Location    0\n",
       "SEX                    0\n",
       "OBS                    0\n",
       "DSR                    4\n",
       "LOWER                  4\n",
       "UPPER                  4\n",
       "dtype: int64"
      ]
     },
     "execution_count": 11,
     "metadata": {},
     "output_type": "execute_result"
    }
   ],
   "source": [
    "dfRenamed.isnull().sum()"
   ]
  },
  {
   "cell_type": "code",
   "execution_count": 12,
   "id": "69716ef2",
   "metadata": {},
   "outputs": [],
   "source": [
    "dfRenamed.dropna(inplace=True)"
   ]
  },
  {
   "cell_type": "code",
   "execution_count": 13,
   "id": "e22174b3",
   "metadata": {},
   "outputs": [
    {
     "data": {
      "text/plain": [
       "YEAR                   0\n",
       "Filename               0\n",
       "Geographic_level       0\n",
       "ORG_CODE               0\n",
       "NEW_CODE               0\n",
       "Geographic_Location    0\n",
       "SEX                    0\n",
       "OBS                    0\n",
       "DSR                    0\n",
       "LOWER                  0\n",
       "UPPER                  0\n",
       "dtype: int64"
      ]
     },
     "execution_count": 13,
     "metadata": {},
     "output_type": "execute_result"
    }
   ],
   "source": [
    "dfRenamed.isnull().sum()"
   ]
  },
  {
   "cell_type": "markdown",
   "id": "0b659770",
   "metadata": {},
   "source": [
    "Question number 1: Average of for Inner London\n",
    "Question number 2: Average in Outer London\n",
    "Question number 3: Average in England"
   ]
  },
  {
   "cell_type": "code",
   "execution_count": 14,
   "id": "ca6f7791",
   "metadata": {},
   "outputs": [
    {
     "data": {
      "text/plain": [
       "ORG_CODE\n",
       "00AB    3\n",
       "00AC    3\n",
       "00AD    3\n",
       "00AE    3\n",
       "00AF    3\n",
       "       ..\n",
       "H       3\n",
       "J       3\n",
       "K       3\n",
       "Lon1    3\n",
       "Lon2    3\n",
       "Length: 357, dtype: int64"
      ]
     },
     "execution_count": 14,
     "metadata": {},
     "output_type": "execute_result"
    }
   ],
   "source": [
    "dfRenamed.groupby(by=\"ORG_CODE\").size()"
   ]
  },
  {
   "cell_type": "code",
   "execution_count": 15,
   "id": "b8e0b1d6",
   "metadata": {},
   "outputs": [
    {
     "data": {
      "text/plain": [
       "ORG_CODE  DSR    OBS \n",
       "00AB      30.92  60      1\n",
       "          47.31  165     1\n",
       "          67.15  105     1\n",
       "00AC      18.47  105     1\n",
       "          25.44  245     1\n",
       "                        ..\n",
       "Lon1      29.71  1735    1\n",
       "          42.28  1140    1\n",
       "Lon2      20.63  1440    1\n",
       "          31.20  3795    1\n",
       "          43.90  2355    1\n",
       "Length: 1070, dtype: int64"
      ]
     },
     "execution_count": 15,
     "metadata": {},
     "output_type": "execute_result"
    }
   ],
   "source": [
    "dfRenamed.groupby(by= [\"ORG_CODE\",\"DSR\",\"OBS\"]).size()"
   ]
  },
  {
   "cell_type": "code",
   "execution_count": 16,
   "id": "c4e2edf6",
   "metadata": {},
   "outputs": [
    {
     "name": "stdout",
     "output_type": "stream",
     "text": [
      "ORG_CODE\n",
      "Lon1    35.995\n",
      "Lon2    31.910\n",
      "Name: DSR, dtype: float64\n"
     ]
    }
   ],
   "source": [
    "df_2 = pd.DataFrame({'ORG_CODE': [\"Lon1\", \"Lon1\", \"Lon2\", \"Lon2\", \"Lon2\"], 'DSR': [29.71, 42.28, 20.63, 31.20, 43.90]})\n",
    "\n",
    "mean_dsr = df_2.groupby([\"ORG_CODE\"]).mean()[\"DSR\"]\n",
    "print(mean_dsr)"
   ]
  },
  {
   "cell_type": "code",
   "execution_count": 17,
   "id": "6e694778",
   "metadata": {},
   "outputs": [
    {
     "name": "stdout",
     "output_type": "stream",
     "text": [
      "<class 'pandas.core.frame.DataFrame'>\n",
      "RangeIndex: 5 entries, 0 to 4\n",
      "Data columns (total 2 columns):\n",
      " #   Column    Non-Null Count  Dtype  \n",
      "---  ------    --------------  -----  \n",
      " 0   ORG_CODE  5 non-null      object \n",
      " 1   DSR       5 non-null      float64\n",
      "dtypes: float64(1), object(1)\n",
      "memory usage: 208.0+ bytes\n"
     ]
    }
   ],
   "source": [
    "df_2.info()"
   ]
  },
  {
   "cell_type": "markdown",
   "id": "d512aebe",
   "metadata": {},
   "source": [
    "### Lon1"
   ]
  },
  {
   "cell_type": "code",
   "execution_count": 18,
   "id": "375cd0f4",
   "metadata": {},
   "outputs": [
    {
     "data": {
      "text/plain": [
       "0     True\n",
       "1     True\n",
       "2    False\n",
       "3    False\n",
       "4    False\n",
       "Name: ORG_CODE, dtype: bool"
      ]
     },
     "execution_count": 18,
     "metadata": {},
     "output_type": "execute_result"
    }
   ],
   "source": [
    "df_2[\"ORG_CODE\"] == \"Lon1\""
   ]
  },
  {
   "cell_type": "code",
   "execution_count": 19,
   "id": "bb9f44ff",
   "metadata": {},
   "outputs": [
    {
     "data": {
      "text/html": [
       "<div>\n",
       "<style scoped>\n",
       "    .dataframe tbody tr th:only-of-type {\n",
       "        vertical-align: middle;\n",
       "    }\n",
       "\n",
       "    .dataframe tbody tr th {\n",
       "        vertical-align: top;\n",
       "    }\n",
       "\n",
       "    .dataframe thead th {\n",
       "        text-align: right;\n",
       "    }\n",
       "</style>\n",
       "<table border=\"1\" class=\"dataframe\">\n",
       "  <thead>\n",
       "    <tr style=\"text-align: right;\">\n",
       "      <th></th>\n",
       "      <th>ORG_CODE</th>\n",
       "      <th>DSR</th>\n",
       "    </tr>\n",
       "  </thead>\n",
       "  <tbody>\n",
       "    <tr>\n",
       "      <th>0</th>\n",
       "      <td>Lon1</td>\n",
       "      <td>29.71</td>\n",
       "    </tr>\n",
       "    <tr>\n",
       "      <th>1</th>\n",
       "      <td>Lon1</td>\n",
       "      <td>42.28</td>\n",
       "    </tr>\n",
       "  </tbody>\n",
       "</table>\n",
       "</div>"
      ],
      "text/plain": [
       "  ORG_CODE    DSR\n",
       "0     Lon1  29.71\n",
       "1     Lon1  42.28"
      ]
     },
     "execution_count": 19,
     "metadata": {},
     "output_type": "execute_result"
    }
   ],
   "source": [
    "df_2[df_2[\"ORG_CODE\"] == \"Lon1\"]"
   ]
  },
  {
   "cell_type": "code",
   "execution_count": 20,
   "id": "1cd90382",
   "metadata": {},
   "outputs": [
    {
     "data": {
      "text/plain": [
       "35.995000000000005"
      ]
     },
     "execution_count": 20,
     "metadata": {},
     "output_type": "execute_result"
    }
   ],
   "source": [
    "df_2[df_2[\"ORG_CODE\"] == \"Lon1\"][\"DSR\"].mean()"
   ]
  },
  {
   "cell_type": "code",
   "execution_count": 21,
   "id": "4c4ed3cf",
   "metadata": {
    "scrolled": true
   },
   "outputs": [
    {
     "name": "stdout",
     "output_type": "stream",
     "text": [
      "Average of for Inner London: 36.0\n"
     ]
    }
   ],
   "source": [
    "#Question1\n",
    "#mean_dsr_lon1 = round(df_2[df_2[\"ORG_CODE\"] == \"Lon1\"].mean()[\"DSR\"], 2) \n",
    "mean_dsr_lon1 = round(df_2[df_2[\"ORG_CODE\"] == \"Lon1\"][\"DSR\"].mean(), 2)\n",
    "\n",
    "print(f'Average of for Inner London: {mean_dsr_lon1}')"
   ]
  },
  {
   "cell_type": "markdown",
   "id": "44d03f30",
   "metadata": {},
   "source": [
    "### Lon2"
   ]
  },
  {
   "cell_type": "code",
   "execution_count": 22,
   "id": "7914168f",
   "metadata": {},
   "outputs": [
    {
     "data": {
      "text/plain": [
       "2    20.63\n",
       "3    31.20\n",
       "4    43.90\n",
       "Name: DSR, dtype: float64"
      ]
     },
     "execution_count": 22,
     "metadata": {},
     "output_type": "execute_result"
    }
   ],
   "source": [
    "df_2[df_2[\"ORG_CODE\"] == \"Lon2\"][\"DSR\"]"
   ]
  },
  {
   "cell_type": "code",
   "execution_count": 23,
   "id": "f1f9b196",
   "metadata": {},
   "outputs": [
    {
     "name": "stdout",
     "output_type": "stream",
     "text": [
      "Average of for Outer London: 31.91\n"
     ]
    }
   ],
   "source": [
    "#Question2\n",
    "#mean_dsr_lon2 = round(df_2[df_2[\"ORG_CODE\"] == \"Lon2\"].mean()[\"DSR\"], 2) \n",
    "mean_dsr_lon2 = round(df_2[df_2[\"ORG_CODE\"] == \"Lon2\"][\"DSR\"].mean(), 2)\n",
    "\n",
    "print(f'Average of for Outer London: {mean_dsr_lon2}')"
   ]
  },
  {
   "cell_type": "code",
   "execution_count": 24,
   "id": "f053e063",
   "metadata": {},
   "outputs": [
    {
     "name": "stdout",
     "output_type": "stream",
     "text": [
      "<class 'pandas.core.frame.DataFrame'>\n",
      "RangeIndex: 5 entries, 0 to 4\n",
      "Data columns (total 2 columns):\n",
      " #   Column    Non-Null Count  Dtype  \n",
      "---  ------    --------------  -----  \n",
      " 0   ORG_CODE  5 non-null      object \n",
      " 1   DSR       5 non-null      float64\n",
      "dtypes: float64(1), object(1)\n",
      "memory usage: 208.0+ bytes\n"
     ]
    }
   ],
   "source": [
    "df_2.info()"
   ]
  },
  {
   "cell_type": "code",
   "execution_count": 25,
   "id": "996a6e21",
   "metadata": {},
   "outputs": [
    {
     "name": "stdout",
     "output_type": "stream",
     "text": [
      "<class 'pandas.core.frame.DataFrame'>\n",
      "Int64Index: 1070 entries, 0 to 1073\n",
      "Data columns (total 11 columns):\n",
      " #   Column               Non-Null Count  Dtype  \n",
      "---  ------               --------------  -----  \n",
      " 0   YEAR                 1070 non-null   int64  \n",
      " 1   Filename             1070 non-null   object \n",
      " 2   Geographic_level     1070 non-null   object \n",
      " 3   ORG_CODE             1070 non-null   object \n",
      " 4   NEW_CODE             1070 non-null   object \n",
      " 5   Geographic_Location  1070 non-null   object \n",
      " 6   SEX                  1070 non-null   object \n",
      " 7   OBS                  1070 non-null   int64  \n",
      " 8   DSR                  1070 non-null   float64\n",
      " 9   LOWER                1070 non-null   float64\n",
      " 10  UPPER                1070 non-null   float64\n",
      "dtypes: float64(3), int64(2), object(6)\n",
      "memory usage: 100.3+ KB\n"
     ]
    }
   ],
   "source": [
    "dfRenamed.info()"
   ]
  },
  {
   "cell_type": "code",
   "execution_count": 26,
   "id": "6a284c16",
   "metadata": {},
   "outputs": [
    {
     "data": {
      "text/plain": [
       "1071    2355\n",
       "1072    1440\n",
       "1073    3795\n",
       "Name: OBS, dtype: int64"
      ]
     },
     "execution_count": 26,
     "metadata": {},
     "output_type": "execute_result"
    }
   ],
   "source": [
    "dfRenamed[dfRenamed[\"ORG_CODE\"] == \"Lon2\"][\"OBS\"]"
   ]
  },
  {
   "cell_type": "code",
   "execution_count": 27,
   "id": "c19b8941",
   "metadata": {},
   "outputs": [
    {
     "data": {
      "text/plain": [
       "2355"
      ]
     },
     "execution_count": 27,
     "metadata": {},
     "output_type": "execute_result"
    }
   ],
   "source": [
    "\n",
    "median_obs_Lon2 = round(dfRenamed[dfRenamed[\"ORG_CODE\"] == \"Lon2\"][\"OBS\"].median()) \n",
    "median_obs_Lon2"
   ]
  },
  {
   "cell_type": "markdown",
   "id": "9fc8c8f0",
   "metadata": {},
   "source": [
    "### 3 ENG"
   ]
  },
  {
   "cell_type": "code",
   "execution_count": 28,
   "id": "3ce2821c",
   "metadata": {},
   "outputs": [
    {
     "data": {
      "text/plain": [
       "3    33545\n",
       "4    20290\n",
       "5    53835\n",
       "Name: OBS, dtype: int64"
      ]
     },
     "execution_count": 28,
     "metadata": {},
     "output_type": "execute_result"
    }
   ],
   "source": [
    "dfRenamed[dfRenamed[\"ORG_CODE\"] == \"ENG\"][\"OBS\"]"
   ]
  },
  {
   "cell_type": "code",
   "execution_count": 29,
   "id": "cac21d77",
   "metadata": {},
   "outputs": [
    {
     "data": {
      "text/plain": [
       "33545"
      ]
     },
     "execution_count": 29,
     "metadata": {},
     "output_type": "execute_result"
    }
   ],
   "source": [
    "\n",
    "median_obs_Eng = round(dfRenamed[dfRenamed[\"ORG_CODE\"] == \"ENG\"][\"OBS\"].median()) \n",
    "median_obs_Eng"
   ]
  },
  {
   "cell_type": "code",
   "execution_count": 30,
   "id": "474dd2aa",
   "metadata": {},
   "outputs": [
    {
     "name": "stdout",
     "output_type": "stream",
     "text": [
      "Ended:  2023-03-27 14:19:52.150391\n",
      "Time elapsed (hh:mm:ass.ms) 0:00:01.737225\n"
     ]
    }
   ],
   "source": [
    "end = datetime.now()\n",
    "print(\"Ended: \", end) \n",
    "print('Time elapsed (hh:mm:ass.ms) {}'.format(datetime.now() - start_time))"
   ]
  }
 ],
 "metadata": {
  "kernelspec": {
   "display_name": "Python 3",
   "language": "python",
   "name": "python3"
  },
  "language_info": {
   "codemirror_mode": {
    "name": "ipython",
    "version": 3
   },
   "file_extension": ".py",
   "mimetype": "text/x-python",
   "name": "python",
   "nbconvert_exporter": "python",
   "pygments_lexer": "ipython3",
   "version": "3.9.13"
  }
 },
 "nbformat": 4,
 "nbformat_minor": 5
}
