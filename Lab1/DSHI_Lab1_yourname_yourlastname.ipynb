{
 "cells": [
  {
   "cell_type": "markdown",
   "id": "79274496",
   "metadata": {},
   "source": [
    "### Lab 1 - Data Analysis about Arrythmia\n",
    "    \n",
    "Denna [Notebook](https://github.com/salgo60/Pandas_DSHI/blob/main/Lab1/DSHI_Lab1_yourname_yourlastname.ipynb)"
   ]
  },
  {
   "cell_type": "code",
   "execution_count": 1,
   "id": "3280ef20",
   "metadata": {},
   "outputs": [
    {
     "name": "stdout",
     "output_type": "stream",
     "text": [
      "Last run:  2023-03-24 15:53:50.158165\n"
     ]
    }
   ],
   "source": [
    "from datetime import datetime\n",
    "start_time  = datetime.now()\n",
    "print(\"Last run: \", start_time)"
   ]
  },
  {
   "cell_type": "code",
   "execution_count": 2,
   "id": "fa0756ef",
   "metadata": {},
   "outputs": [],
   "source": [
    "student_name = \"Michel Laji\"\n",
    "student_id = \"cl3z\"\n",
    "student_background = \"health\""
   ]
  },
  {
   "cell_type": "markdown",
   "id": "e7b4894d",
   "metadata": {},
   "source": [
    "The domain area is Acute myocardial infarction: incidence rate in Scotland 2004-2021, by gender.\n",
    "The purpose to study the correlation between gender and Myocardial infarction\n",
    "\n"
   ]
  },
  {
   "cell_type": "markdown",
   "id": "0e73dfeb",
   "metadata": {},
   "source": [
    "Number of Datasets: 17\n",
    "Data format: excel\n",
    "Headers or describing: 3 \n",
    "Values separated by: Cells\n",
    "Do you need to load and analyze all the files: None"
   ]
  },
  {
   "cell_type": "markdown",
   "id": "5ec6671c",
   "metadata": {},
   "source": [
    "Features: 2\n",
    "Observations: 17"
   ]
  },
  {
   "cell_type": "markdown",
   "id": "b2fcd72e",
   "metadata": {},
   "source": [
    "Numerical features: Yes\n",
    "Number of numerical features: 2\n",
    "Names of features: Men Women (Gender)\n",
    "Ordinal or nominal: Nominal\n"
   ]
  },
  {
   "cell_type": "markdown",
   "id": "8020f79b",
   "metadata": {},
   "source": [
    "Categorical Features: Yes\n",
    "Numbers of Categorical Features: 1\n",
    "Name of the Categorical Features: Characteristics (Year)\n",
    "Ordinal or Nominal: Ordinal"
   ]
  },
  {
   "cell_type": "markdown",
   "id": "9e043d3d",
   "metadata": {},
   "source": [
    "Binary features: No\n",
    "Number of Binary Features: None\n",
    "What binary features could be added: Previous Myocardial Infarction"
   ]
  },
  {
   "cell_type": "code",
   "execution_count": 3,
   "id": "cb71fccd",
   "metadata": {},
   "outputs": [],
   "source": [
    "import numpy as np\n",
    "import pandas as pd\n",
    "import matplotlib.pyplot as plt"
   ]
  },
  {
   "cell_type": "code",
   "execution_count": 4,
   "id": "41e24841",
   "metadata": {
    "scrolled": true
   },
   "outputs": [
    {
     "data": {
      "text/html": [
       "<div>\n",
       "<style scoped>\n",
       "    .dataframe tbody tr th:only-of-type {\n",
       "        vertical-align: middle;\n",
       "    }\n",
       "\n",
       "    .dataframe tbody tr th {\n",
       "        vertical-align: top;\n",
       "    }\n",
       "\n",
       "    .dataframe thead th {\n",
       "        text-align: right;\n",
       "    }\n",
       "</style>\n",
       "<table border=\"1\" class=\"dataframe\">\n",
       "  <thead>\n",
       "    <tr style=\"text-align: right;\">\n",
       "      <th></th>\n",
       "      <th>YEAR</th>\n",
       "      <th>Filename</th>\n",
       "      <th>ORG_TYPE_DESCRIPTION</th>\n",
       "      <th>ORG_CODE</th>\n",
       "      <th>NEW_CODE</th>\n",
       "      <th>ORG_TITLE</th>\n",
       "      <th>SEX_CODE</th>\n",
       "      <th>OBS</th>\n",
       "      <th>DSR</th>\n",
       "      <th>LOWER</th>\n",
       "      <th>UPPER</th>\n",
       "    </tr>\n",
       "  </thead>\n",
       "  <tbody>\n",
       "    <tr>\n",
       "      <th>0</th>\n",
       "      <td>2020</td>\n",
       "      <td>09B_055DR00++</td>\n",
       "      <td>NATIONAL</td>\n",
       "      <td>E&amp;W</td>\n",
       "      <td>K04000001</td>\n",
       "      <td>England and Wales</td>\n",
       "      <td>M</td>\n",
       "      <td>35915</td>\n",
       "      <td>47.37</td>\n",
       "      <td>46.88</td>\n",
       "      <td>47.87</td>\n",
       "    </tr>\n",
       "    <tr>\n",
       "      <th>1</th>\n",
       "      <td>2020</td>\n",
       "      <td>09B_055DR00++</td>\n",
       "      <td>NATIONAL</td>\n",
       "      <td>E&amp;W</td>\n",
       "      <td>K04000001</td>\n",
       "      <td>England and Wales</td>\n",
       "      <td>F</td>\n",
       "      <td>21690</td>\n",
       "      <td>22.09</td>\n",
       "      <td>21.80</td>\n",
       "      <td>22.39</td>\n",
       "    </tr>\n",
       "    <tr>\n",
       "      <th>2</th>\n",
       "      <td>2020</td>\n",
       "      <td>09B_055DR00++</td>\n",
       "      <td>NATIONAL</td>\n",
       "      <td>E&amp;W</td>\n",
       "      <td>K04000001</td>\n",
       "      <td>England and Wales</td>\n",
       "      <td>P</td>\n",
       "      <td>57605</td>\n",
       "      <td>33.62</td>\n",
       "      <td>33.35</td>\n",
       "      <td>33.90</td>\n",
       "    </tr>\n",
       "    <tr>\n",
       "      <th>3</th>\n",
       "      <td>2020</td>\n",
       "      <td>09B_055DR00++</td>\n",
       "      <td>NATIONAL</td>\n",
       "      <td>ENG</td>\n",
       "      <td>E92000001</td>\n",
       "      <td>England</td>\n",
       "      <td>M</td>\n",
       "      <td>33545</td>\n",
       "      <td>47.00</td>\n",
       "      <td>46.49</td>\n",
       "      <td>47.51</td>\n",
       "    </tr>\n",
       "    <tr>\n",
       "      <th>4</th>\n",
       "      <td>2020</td>\n",
       "      <td>09B_055DR00++</td>\n",
       "      <td>NATIONAL</td>\n",
       "      <td>ENG</td>\n",
       "      <td>E92000001</td>\n",
       "      <td>England</td>\n",
       "      <td>F</td>\n",
       "      <td>20290</td>\n",
       "      <td>21.94</td>\n",
       "      <td>21.63</td>\n",
       "      <td>22.24</td>\n",
       "    </tr>\n",
       "  </tbody>\n",
       "</table>\n",
       "</div>"
      ],
      "text/plain": [
       "   YEAR       Filename ORG_TYPE_DESCRIPTION ORG_CODE   NEW_CODE  \\\n",
       "0  2020  09B_055DR00++             NATIONAL      E&W  K04000001   \n",
       "1  2020  09B_055DR00++             NATIONAL      E&W  K04000001   \n",
       "2  2020  09B_055DR00++             NATIONAL      E&W  K04000001   \n",
       "3  2020  09B_055DR00++             NATIONAL      ENG  E92000001   \n",
       "4  2020  09B_055DR00++             NATIONAL      ENG  E92000001   \n",
       "\n",
       "           ORG_TITLE SEX_CODE    OBS    DSR  LOWER  UPPER  \n",
       "0  England and Wales        M  35915  47.37  46.88  47.87  \n",
       "1  England and Wales        F  21690  22.09  21.80  22.39  \n",
       "2  England and Wales        P  57605  33.62  33.35  33.90  \n",
       "3            England        M  33545  47.00  46.49  47.51  \n",
       "4            England        F  20290  21.94  21.63  22.24  "
      ]
     },
     "execution_count": 4,
     "metadata": {},
     "output_type": "execute_result"
    }
   ],
   "source": [
    "df = pd.read_csv(\"Klara.csv\")\n",
    "df.head()"
   ]
  },
  {
   "cell_type": "code",
   "execution_count": 5,
   "id": "abf31ff4",
   "metadata": {
    "scrolled": true
   },
   "outputs": [
    {
     "data": {
      "text/plain": [
       "(1074, 11)"
      ]
     },
     "execution_count": 5,
     "metadata": {},
     "output_type": "execute_result"
    }
   ],
   "source": [
    "df.shape"
   ]
  },
  {
   "cell_type": "code",
   "execution_count": 6,
   "id": "26c70824",
   "metadata": {},
   "outputs": [
    {
     "data": {
      "text/plain": [
       "YEAR                      int64\n",
       "Filename                 object\n",
       "ORG_TYPE_DESCRIPTION     object\n",
       "ORG_CODE                 object\n",
       "NEW_CODE                 object\n",
       "ORG_TITLE                object\n",
       "SEX_CODE                 object\n",
       "OBS                       int64\n",
       "DSR                     float64\n",
       "LOWER                   float64\n",
       "UPPER                   float64\n",
       "dtype: object"
      ]
     },
     "execution_count": 6,
     "metadata": {},
     "output_type": "execute_result"
    }
   ],
   "source": [
    "df.dtypes"
   ]
  },
  {
   "cell_type": "code",
   "execution_count": 7,
   "id": "ecaba941",
   "metadata": {
    "scrolled": true
   },
   "outputs": [
    {
     "data": {
      "text/html": [
       "<div>\n",
       "<style scoped>\n",
       "    .dataframe tbody tr th:only-of-type {\n",
       "        vertical-align: middle;\n",
       "    }\n",
       "\n",
       "    .dataframe tbody tr th {\n",
       "        vertical-align: top;\n",
       "    }\n",
       "\n",
       "    .dataframe thead th {\n",
       "        text-align: right;\n",
       "    }\n",
       "</style>\n",
       "<table border=\"1\" class=\"dataframe\">\n",
       "  <thead>\n",
       "    <tr style=\"text-align: right;\">\n",
       "      <th></th>\n",
       "      <th>YEAR</th>\n",
       "      <th>Filename</th>\n",
       "      <th>ORG_CODE</th>\n",
       "      <th>NEW_CODE</th>\n",
       "      <th>ORG_TITLE</th>\n",
       "      <th>SEX_CODE</th>\n",
       "      <th>OBS</th>\n",
       "      <th>DSR</th>\n",
       "      <th>LOWER</th>\n",
       "      <th>UPPER</th>\n",
       "    </tr>\n",
       "  </thead>\n",
       "  <tbody>\n",
       "    <tr>\n",
       "      <th>0</th>\n",
       "      <td>2020</td>\n",
       "      <td>09B_055DR00++</td>\n",
       "      <td>E&amp;W</td>\n",
       "      <td>K04000001</td>\n",
       "      <td>England and Wales</td>\n",
       "      <td>M</td>\n",
       "      <td>35915</td>\n",
       "      <td>47.37</td>\n",
       "      <td>46.88</td>\n",
       "      <td>47.87</td>\n",
       "    </tr>\n",
       "    <tr>\n",
       "      <th>1</th>\n",
       "      <td>2020</td>\n",
       "      <td>09B_055DR00++</td>\n",
       "      <td>E&amp;W</td>\n",
       "      <td>K04000001</td>\n",
       "      <td>England and Wales</td>\n",
       "      <td>F</td>\n",
       "      <td>21690</td>\n",
       "      <td>22.09</td>\n",
       "      <td>21.80</td>\n",
       "      <td>22.39</td>\n",
       "    </tr>\n",
       "    <tr>\n",
       "      <th>2</th>\n",
       "      <td>2020</td>\n",
       "      <td>09B_055DR00++</td>\n",
       "      <td>E&amp;W</td>\n",
       "      <td>K04000001</td>\n",
       "      <td>England and Wales</td>\n",
       "      <td>P</td>\n",
       "      <td>57605</td>\n",
       "      <td>33.62</td>\n",
       "      <td>33.35</td>\n",
       "      <td>33.90</td>\n",
       "    </tr>\n",
       "    <tr>\n",
       "      <th>3</th>\n",
       "      <td>2020</td>\n",
       "      <td>09B_055DR00++</td>\n",
       "      <td>ENG</td>\n",
       "      <td>E92000001</td>\n",
       "      <td>England</td>\n",
       "      <td>M</td>\n",
       "      <td>33545</td>\n",
       "      <td>47.00</td>\n",
       "      <td>46.49</td>\n",
       "      <td>47.51</td>\n",
       "    </tr>\n",
       "    <tr>\n",
       "      <th>4</th>\n",
       "      <td>2020</td>\n",
       "      <td>09B_055DR00++</td>\n",
       "      <td>ENG</td>\n",
       "      <td>E92000001</td>\n",
       "      <td>England</td>\n",
       "      <td>F</td>\n",
       "      <td>20290</td>\n",
       "      <td>21.94</td>\n",
       "      <td>21.63</td>\n",
       "      <td>22.24</td>\n",
       "    </tr>\n",
       "    <tr>\n",
       "      <th>...</th>\n",
       "      <td>...</td>\n",
       "      <td>...</td>\n",
       "      <td>...</td>\n",
       "      <td>...</td>\n",
       "      <td>...</td>\n",
       "      <td>...</td>\n",
       "      <td>...</td>\n",
       "      <td>...</td>\n",
       "      <td>...</td>\n",
       "      <td>...</td>\n",
       "    </tr>\n",
       "    <tr>\n",
       "      <th>1069</th>\n",
       "      <td>2020</td>\n",
       "      <td>09B_055DR00++</td>\n",
       "      <td>Lon1</td>\n",
       "      <td>E13000001</td>\n",
       "      <td>Inner London</td>\n",
       "      <td>F</td>\n",
       "      <td>590</td>\n",
       "      <td>18.94</td>\n",
       "      <td>17.43</td>\n",
       "      <td>20.54</td>\n",
       "    </tr>\n",
       "    <tr>\n",
       "      <th>1070</th>\n",
       "      <td>2020</td>\n",
       "      <td>09B_055DR00++</td>\n",
       "      <td>Lon1</td>\n",
       "      <td>E13000001</td>\n",
       "      <td>Inner London</td>\n",
       "      <td>P</td>\n",
       "      <td>1735</td>\n",
       "      <td>29.71</td>\n",
       "      <td>28.30</td>\n",
       "      <td>31.18</td>\n",
       "    </tr>\n",
       "    <tr>\n",
       "      <th>1071</th>\n",
       "      <td>2020</td>\n",
       "      <td>09B_055DR00++</td>\n",
       "      <td>Lon2</td>\n",
       "      <td>E13000002</td>\n",
       "      <td>Outer London</td>\n",
       "      <td>M</td>\n",
       "      <td>2355</td>\n",
       "      <td>43.90</td>\n",
       "      <td>42.12</td>\n",
       "      <td>45.74</td>\n",
       "    </tr>\n",
       "    <tr>\n",
       "      <th>1072</th>\n",
       "      <td>2020</td>\n",
       "      <td>09B_055DR00++</td>\n",
       "      <td>Lon2</td>\n",
       "      <td>E13000002</td>\n",
       "      <td>Outer London</td>\n",
       "      <td>F</td>\n",
       "      <td>1440</td>\n",
       "      <td>20.63</td>\n",
       "      <td>19.57</td>\n",
       "      <td>21.73</td>\n",
       "    </tr>\n",
       "    <tr>\n",
       "      <th>1073</th>\n",
       "      <td>2020</td>\n",
       "      <td>09B_055DR00++</td>\n",
       "      <td>Lon2</td>\n",
       "      <td>E13000002</td>\n",
       "      <td>Outer London</td>\n",
       "      <td>P</td>\n",
       "      <td>3795</td>\n",
       "      <td>31.20</td>\n",
       "      <td>30.21</td>\n",
       "      <td>32.22</td>\n",
       "    </tr>\n",
       "  </tbody>\n",
       "</table>\n",
       "<p>1074 rows × 10 columns</p>\n",
       "</div>"
      ],
      "text/plain": [
       "      YEAR       Filename ORG_CODE   NEW_CODE          ORG_TITLE SEX_CODE  \\\n",
       "0     2020  09B_055DR00++      E&W  K04000001  England and Wales        M   \n",
       "1     2020  09B_055DR00++      E&W  K04000001  England and Wales        F   \n",
       "2     2020  09B_055DR00++      E&W  K04000001  England and Wales        P   \n",
       "3     2020  09B_055DR00++      ENG  E92000001            England        M   \n",
       "4     2020  09B_055DR00++      ENG  E92000001            England        F   \n",
       "...    ...            ...      ...        ...                ...      ...   \n",
       "1069  2020  09B_055DR00++     Lon1  E13000001       Inner London        F   \n",
       "1070  2020  09B_055DR00++     Lon1  E13000001       Inner London        P   \n",
       "1071  2020  09B_055DR00++     Lon2  E13000002       Outer London        M   \n",
       "1072  2020  09B_055DR00++     Lon2  E13000002       Outer London        F   \n",
       "1073  2020  09B_055DR00++     Lon2  E13000002       Outer London        P   \n",
       "\n",
       "        OBS    DSR  LOWER  UPPER  \n",
       "0     35915  47.37  46.88  47.87  \n",
       "1     21690  22.09  21.80  22.39  \n",
       "2     57605  33.62  33.35  33.90  \n",
       "3     33545  47.00  46.49  47.51  \n",
       "4     20290  21.94  21.63  22.24  \n",
       "...     ...    ...    ...    ...  \n",
       "1069    590  18.94  17.43  20.54  \n",
       "1070   1735  29.71  28.30  31.18  \n",
       "1071   2355  43.90  42.12  45.74  \n",
       "1072   1440  20.63  19.57  21.73  \n",
       "1073   3795  31.20  30.21  32.22  \n",
       "\n",
       "[1074 rows x 10 columns]"
      ]
     },
     "execution_count": 7,
     "metadata": {},
     "output_type": "execute_result"
    }
   ],
   "source": [
    "columns_to_delete = [\"ORG_TYPE_DESCRIPTION\"]\n",
    "df_processed = df.drop(columns_to_delete, axis=1)\n",
    "df_processed"
   ]
  },
  {
   "cell_type": "code",
   "execution_count": 8,
   "id": "84e908c8",
   "metadata": {
    "scrolled": true
   },
   "outputs": [
    {
     "data": {
      "text/html": [
       "<div>\n",
       "<style scoped>\n",
       "    .dataframe tbody tr th:only-of-type {\n",
       "        vertical-align: middle;\n",
       "    }\n",
       "\n",
       "    .dataframe tbody tr th {\n",
       "        vertical-align: top;\n",
       "    }\n",
       "\n",
       "    .dataframe thead th {\n",
       "        text-align: right;\n",
       "    }\n",
       "</style>\n",
       "<table border=\"1\" class=\"dataframe\">\n",
       "  <thead>\n",
       "    <tr style=\"text-align: right;\">\n",
       "      <th></th>\n",
       "      <th>YEAR</th>\n",
       "      <th>Filename</th>\n",
       "      <th>Geographic_level</th>\n",
       "      <th>ORG_CODE</th>\n",
       "      <th>NEW_CODE</th>\n",
       "      <th>Geographic_Location</th>\n",
       "      <th>SEX</th>\n",
       "      <th>OBS</th>\n",
       "      <th>DSR</th>\n",
       "      <th>LOWER</th>\n",
       "      <th>UPPER</th>\n",
       "    </tr>\n",
       "  </thead>\n",
       "  <tbody>\n",
       "    <tr>\n",
       "      <th>0</th>\n",
       "      <td>2020</td>\n",
       "      <td>09B_055DR00++</td>\n",
       "      <td>NATIONAL</td>\n",
       "      <td>E&amp;W</td>\n",
       "      <td>K04000001</td>\n",
       "      <td>England and Wales</td>\n",
       "      <td>M</td>\n",
       "      <td>35915</td>\n",
       "      <td>47.37</td>\n",
       "      <td>46.88</td>\n",
       "      <td>47.87</td>\n",
       "    </tr>\n",
       "    <tr>\n",
       "      <th>1</th>\n",
       "      <td>2020</td>\n",
       "      <td>09B_055DR00++</td>\n",
       "      <td>NATIONAL</td>\n",
       "      <td>E&amp;W</td>\n",
       "      <td>K04000001</td>\n",
       "      <td>England and Wales</td>\n",
       "      <td>F</td>\n",
       "      <td>21690</td>\n",
       "      <td>22.09</td>\n",
       "      <td>21.80</td>\n",
       "      <td>22.39</td>\n",
       "    </tr>\n",
       "    <tr>\n",
       "      <th>2</th>\n",
       "      <td>2020</td>\n",
       "      <td>09B_055DR00++</td>\n",
       "      <td>NATIONAL</td>\n",
       "      <td>E&amp;W</td>\n",
       "      <td>K04000001</td>\n",
       "      <td>England and Wales</td>\n",
       "      <td>P</td>\n",
       "      <td>57605</td>\n",
       "      <td>33.62</td>\n",
       "      <td>33.35</td>\n",
       "      <td>33.90</td>\n",
       "    </tr>\n",
       "    <tr>\n",
       "      <th>3</th>\n",
       "      <td>2020</td>\n",
       "      <td>09B_055DR00++</td>\n",
       "      <td>NATIONAL</td>\n",
       "      <td>ENG</td>\n",
       "      <td>E92000001</td>\n",
       "      <td>England</td>\n",
       "      <td>M</td>\n",
       "      <td>33545</td>\n",
       "      <td>47.00</td>\n",
       "      <td>46.49</td>\n",
       "      <td>47.51</td>\n",
       "    </tr>\n",
       "    <tr>\n",
       "      <th>4</th>\n",
       "      <td>2020</td>\n",
       "      <td>09B_055DR00++</td>\n",
       "      <td>NATIONAL</td>\n",
       "      <td>ENG</td>\n",
       "      <td>E92000001</td>\n",
       "      <td>England</td>\n",
       "      <td>F</td>\n",
       "      <td>20290</td>\n",
       "      <td>21.94</td>\n",
       "      <td>21.63</td>\n",
       "      <td>22.24</td>\n",
       "    </tr>\n",
       "    <tr>\n",
       "      <th>...</th>\n",
       "      <td>...</td>\n",
       "      <td>...</td>\n",
       "      <td>...</td>\n",
       "      <td>...</td>\n",
       "      <td>...</td>\n",
       "      <td>...</td>\n",
       "      <td>...</td>\n",
       "      <td>...</td>\n",
       "      <td>...</td>\n",
       "      <td>...</td>\n",
       "      <td>...</td>\n",
       "    </tr>\n",
       "    <tr>\n",
       "      <th>1069</th>\n",
       "      <td>2020</td>\n",
       "      <td>09B_055DR00++</td>\n",
       "      <td>LONDON AUTHORITIES (boundaries as of April 2009)</td>\n",
       "      <td>Lon1</td>\n",
       "      <td>E13000001</td>\n",
       "      <td>Inner London</td>\n",
       "      <td>F</td>\n",
       "      <td>590</td>\n",
       "      <td>18.94</td>\n",
       "      <td>17.43</td>\n",
       "      <td>20.54</td>\n",
       "    </tr>\n",
       "    <tr>\n",
       "      <th>1070</th>\n",
       "      <td>2020</td>\n",
       "      <td>09B_055DR00++</td>\n",
       "      <td>LONDON AUTHORITIES (boundaries as of April 2009)</td>\n",
       "      <td>Lon1</td>\n",
       "      <td>E13000001</td>\n",
       "      <td>Inner London</td>\n",
       "      <td>P</td>\n",
       "      <td>1735</td>\n",
       "      <td>29.71</td>\n",
       "      <td>28.30</td>\n",
       "      <td>31.18</td>\n",
       "    </tr>\n",
       "    <tr>\n",
       "      <th>1071</th>\n",
       "      <td>2020</td>\n",
       "      <td>09B_055DR00++</td>\n",
       "      <td>LONDON AUTHORITIES (boundaries as of April 2009)</td>\n",
       "      <td>Lon2</td>\n",
       "      <td>E13000002</td>\n",
       "      <td>Outer London</td>\n",
       "      <td>M</td>\n",
       "      <td>2355</td>\n",
       "      <td>43.90</td>\n",
       "      <td>42.12</td>\n",
       "      <td>45.74</td>\n",
       "    </tr>\n",
       "    <tr>\n",
       "      <th>1072</th>\n",
       "      <td>2020</td>\n",
       "      <td>09B_055DR00++</td>\n",
       "      <td>LONDON AUTHORITIES (boundaries as of April 2009)</td>\n",
       "      <td>Lon2</td>\n",
       "      <td>E13000002</td>\n",
       "      <td>Outer London</td>\n",
       "      <td>F</td>\n",
       "      <td>1440</td>\n",
       "      <td>20.63</td>\n",
       "      <td>19.57</td>\n",
       "      <td>21.73</td>\n",
       "    </tr>\n",
       "    <tr>\n",
       "      <th>1073</th>\n",
       "      <td>2020</td>\n",
       "      <td>09B_055DR00++</td>\n",
       "      <td>LONDON AUTHORITIES (boundaries as of April 2009)</td>\n",
       "      <td>Lon2</td>\n",
       "      <td>E13000002</td>\n",
       "      <td>Outer London</td>\n",
       "      <td>P</td>\n",
       "      <td>3795</td>\n",
       "      <td>31.20</td>\n",
       "      <td>30.21</td>\n",
       "      <td>32.22</td>\n",
       "    </tr>\n",
       "  </tbody>\n",
       "</table>\n",
       "<p>1074 rows × 11 columns</p>\n",
       "</div>"
      ],
      "text/plain": [
       "      YEAR       Filename                                  Geographic_level  \\\n",
       "0     2020  09B_055DR00++                                          NATIONAL   \n",
       "1     2020  09B_055DR00++                                          NATIONAL   \n",
       "2     2020  09B_055DR00++                                          NATIONAL   \n",
       "3     2020  09B_055DR00++                                          NATIONAL   \n",
       "4     2020  09B_055DR00++                                          NATIONAL   \n",
       "...    ...            ...                                               ...   \n",
       "1069  2020  09B_055DR00++  LONDON AUTHORITIES (boundaries as of April 2009)   \n",
       "1070  2020  09B_055DR00++  LONDON AUTHORITIES (boundaries as of April 2009)   \n",
       "1071  2020  09B_055DR00++  LONDON AUTHORITIES (boundaries as of April 2009)   \n",
       "1072  2020  09B_055DR00++  LONDON AUTHORITIES (boundaries as of April 2009)   \n",
       "1073  2020  09B_055DR00++  LONDON AUTHORITIES (boundaries as of April 2009)   \n",
       "\n",
       "     ORG_CODE   NEW_CODE Geographic_Location SEX    OBS    DSR  LOWER  UPPER  \n",
       "0         E&W  K04000001   England and Wales   M  35915  47.37  46.88  47.87  \n",
       "1         E&W  K04000001   England and Wales   F  21690  22.09  21.80  22.39  \n",
       "2         E&W  K04000001   England and Wales   P  57605  33.62  33.35  33.90  \n",
       "3         ENG  E92000001             England   M  33545  47.00  46.49  47.51  \n",
       "4         ENG  E92000001             England   F  20290  21.94  21.63  22.24  \n",
       "...       ...        ...                 ...  ..    ...    ...    ...    ...  \n",
       "1069     Lon1  E13000001        Inner London   F    590  18.94  17.43  20.54  \n",
       "1070     Lon1  E13000001        Inner London   P   1735  29.71  28.30  31.18  \n",
       "1071     Lon2  E13000002        Outer London   M   2355  43.90  42.12  45.74  \n",
       "1072     Lon2  E13000002        Outer London   F   1440  20.63  19.57  21.73  \n",
       "1073     Lon2  E13000002        Outer London   P   3795  31.20  30.21  32.22  \n",
       "\n",
       "[1074 rows x 11 columns]"
      ]
     },
     "execution_count": 8,
     "metadata": {},
     "output_type": "execute_result"
    }
   ],
   "source": [
    "df.rename(columns={\n",
    "                          \"ORG_TITLE\":\"Geographic_Location\",\n",
    "                          \"SEX_CODE\": \"SEX\",\n",
    "                        \"ORG_TYPE_DESCRIPTION\": \"Geographic_level\", \n",
    "                          })"
   ]
  },
  {
   "cell_type": "code",
   "execution_count": 9,
   "id": "380ff4f7",
   "metadata": {},
   "outputs": [],
   "source": [
    "newDf = df.rename(columns={\n",
    "                          \"ORG_TITLE\":\"Geographic_Location\",\n",
    "                          \"SEX_CODE\": \"SEX\",\n",
    "                        \"ORG_TYPE_DESCRIPTION\": \"Geographic_level\", \n",
    "                          })"
   ]
  },
  {
   "cell_type": "code",
   "execution_count": 10,
   "id": "6ccdc6bf",
   "metadata": {},
   "outputs": [
    {
     "data": {
      "text/plain": [
       "ORG_CODE\n",
       "00AA    3\n",
       "00AB    3\n",
       "00AC    3\n",
       "00AD    3\n",
       "00AE    3\n",
       "       ..\n",
       "H       3\n",
       "J       3\n",
       "K       3\n",
       "Lon1    3\n",
       "Lon2    3\n",
       "Length: 358, dtype: int64"
      ]
     },
     "execution_count": 10,
     "metadata": {},
     "output_type": "execute_result"
    }
   ],
   "source": [
    "newDf.groupby(by=\"ORG_CODE\").size()"
   ]
  },
  {
   "cell_type": "code",
   "execution_count": 11,
   "id": "4befb48a",
   "metadata": {},
   "outputs": [
    {
     "data": {
      "text/plain": [
       "ORG_CODE  DSR  \n",
       "00AB      30.92    1\n",
       "          47.31    1\n",
       "          67.15    1\n",
       "00AC      18.47    1\n",
       "          25.44    1\n",
       "                  ..\n",
       "Lon1      29.71    1\n",
       "          42.28    1\n",
       "Lon2      20.63    1\n",
       "          31.20    1\n",
       "          43.90    1\n",
       "Length: 1070, dtype: int64"
      ]
     },
     "execution_count": 11,
     "metadata": {},
     "output_type": "execute_result"
    }
   ],
   "source": [
    "newDf.groupby(by=[\"ORG_CODE\",\"DSR\"]).size()"
   ]
  },
  {
   "cell_type": "code",
   "execution_count": 12,
   "id": "16413676",
   "metadata": {},
   "outputs": [
    {
     "data": {
      "text/plain": [
       "ORG_CODE  YEAR  DSR  \n",
       "00AB      2020  30.92    1\n",
       "                47.31    1\n",
       "                67.15    1\n",
       "00AC      2020  18.47    1\n",
       "                25.44    1\n",
       "                        ..\n",
       "Lon1      2020  29.71    1\n",
       "                42.28    1\n",
       "Lon2      2020  20.63    1\n",
       "                31.20    1\n",
       "                43.90    1\n",
       "Length: 1070, dtype: int64"
      ]
     },
     "execution_count": 12,
     "metadata": {},
     "output_type": "execute_result"
    }
   ],
   "source": [
    "newDf.groupby(by=[\"ORG_CODE\",\"YEAR\",\"DSR\"]).size()"
   ]
  },
  {
   "cell_type": "code",
   "execution_count": 13,
   "id": "0048820b",
   "metadata": {},
   "outputs": [
    {
     "data": {
      "text/plain": [
       "YEAR  ORG_CODE  DSR  \n",
       "2020  00AB      30.92    1\n",
       "                47.31    1\n",
       "                67.15    1\n",
       "      00AC      18.47    1\n",
       "                25.44    1\n",
       "                        ..\n",
       "      Lon1      29.71    1\n",
       "                42.28    1\n",
       "      Lon2      20.63    1\n",
       "                31.20    1\n",
       "                43.90    1\n",
       "Length: 1070, dtype: int64"
      ]
     },
     "execution_count": 13,
     "metadata": {},
     "output_type": "execute_result"
    }
   ],
   "source": [
    "df.groupby(by=[\"YEAR\",\"ORG_CODE\",\"DSR\"]).size()"
   ]
  },
  {
   "cell_type": "code",
   "execution_count": 14,
   "id": "aa2e7246",
   "metadata": {},
   "outputs": [
    {
     "name": "stdout",
     "output_type": "stream",
     "text": [
      "<class 'pandas.core.frame.DataFrame'>\n",
      "RangeIndex: 1074 entries, 0 to 1073\n",
      "Data columns (total 11 columns):\n",
      " #   Column                Non-Null Count  Dtype  \n",
      "---  ------                --------------  -----  \n",
      " 0   YEAR                  1074 non-null   int64  \n",
      " 1   Filename              1074 non-null   object \n",
      " 2   ORG_TYPE_DESCRIPTION  1074 non-null   object \n",
      " 3   ORG_CODE              1074 non-null   object \n",
      " 4   NEW_CODE              1074 non-null   object \n",
      " 5   ORG_TITLE             1074 non-null   object \n",
      " 6   SEX_CODE              1074 non-null   object \n",
      " 7   OBS                   1074 non-null   int64  \n",
      " 8   DSR                   1070 non-null   float64\n",
      " 9   LOWER                 1070 non-null   float64\n",
      " 10  UPPER                 1070 non-null   float64\n",
      "dtypes: float64(3), int64(2), object(6)\n",
      "memory usage: 92.4+ KB\n"
     ]
    }
   ],
   "source": [
    "df.info()"
   ]
  },
  {
   "cell_type": "code",
   "execution_count": 15,
   "id": "6b53b226",
   "metadata": {},
   "outputs": [
    {
     "name": "stdout",
     "output_type": "stream",
     "text": [
      "<class 'pandas.core.frame.DataFrame'>\n",
      "RangeIndex: 1074 entries, 0 to 1073\n",
      "Data columns (total 11 columns):\n",
      " #   Column               Non-Null Count  Dtype  \n",
      "---  ------               --------------  -----  \n",
      " 0   YEAR                 1074 non-null   int64  \n",
      " 1   Filename             1074 non-null   object \n",
      " 2   Geographic_level     1074 non-null   object \n",
      " 3   ORG_CODE             1074 non-null   object \n",
      " 4   NEW_CODE             1074 non-null   object \n",
      " 5   Geographic_Location  1074 non-null   object \n",
      " 6   SEX                  1074 non-null   object \n",
      " 7   OBS                  1074 non-null   int64  \n",
      " 8   DSR                  1070 non-null   float64\n",
      " 9   LOWER                1070 non-null   float64\n",
      " 10  UPPER                1070 non-null   float64\n",
      "dtypes: float64(3), int64(2), object(6)\n",
      "memory usage: 92.4+ KB\n"
     ]
    }
   ],
   "source": [
    "newDf.info()"
   ]
  },
  {
   "cell_type": "code",
   "execution_count": 16,
   "id": "55f52d99",
   "metadata": {},
   "outputs": [
    {
     "data": {
      "text/html": [
       "<div>\n",
       "<style scoped>\n",
       "    .dataframe tbody tr th:only-of-type {\n",
       "        vertical-align: middle;\n",
       "    }\n",
       "\n",
       "    .dataframe tbody tr th {\n",
       "        vertical-align: top;\n",
       "    }\n",
       "\n",
       "    .dataframe thead th {\n",
       "        text-align: right;\n",
       "    }\n",
       "</style>\n",
       "<table border=\"1\" class=\"dataframe\">\n",
       "  <thead>\n",
       "    <tr style=\"text-align: right;\">\n",
       "      <th></th>\n",
       "      <th>YEAR</th>\n",
       "      <th>OBS</th>\n",
       "      <th>DSR</th>\n",
       "      <th>LOWER</th>\n",
       "      <th>UPPER</th>\n",
       "    </tr>\n",
       "  </thead>\n",
       "  <tbody>\n",
       "    <tr>\n",
       "      <th>count</th>\n",
       "      <td>1074.0</td>\n",
       "      <td>1074.000000</td>\n",
       "      <td>1070.000000</td>\n",
       "      <td>1070.000000</td>\n",
       "      <td>1070.000000</td>\n",
       "    </tr>\n",
       "    <tr>\n",
       "      <th>mean</th>\n",
       "      <td>2020.0</td>\n",
       "      <td>492.462756</td>\n",
       "      <td>33.527047</td>\n",
       "      <td>27.531000</td>\n",
       "      <td>40.628692</td>\n",
       "    </tr>\n",
       "    <tr>\n",
       "      <th>std</th>\n",
       "      <td>0.0</td>\n",
       "      <td>3047.305941</td>\n",
       "      <td>14.041841</td>\n",
       "      <td>12.640997</td>\n",
       "      <td>16.002617</td>\n",
       "    </tr>\n",
       "    <tr>\n",
       "      <th>min</th>\n",
       "      <td>2020.0</td>\n",
       "      <td>5.000000</td>\n",
       "      <td>7.010000</td>\n",
       "      <td>3.610000</td>\n",
       "      <td>12.270000</td>\n",
       "    </tr>\n",
       "    <tr>\n",
       "      <th>25%</th>\n",
       "      <td>2020.0</td>\n",
       "      <td>55.000000</td>\n",
       "      <td>23.005000</td>\n",
       "      <td>18.110000</td>\n",
       "      <td>28.320000</td>\n",
       "    </tr>\n",
       "    <tr>\n",
       "      <th>50%</th>\n",
       "      <td>2020.0</td>\n",
       "      <td>100.000000</td>\n",
       "      <td>31.195000</td>\n",
       "      <td>25.895000</td>\n",
       "      <td>37.530000</td>\n",
       "    </tr>\n",
       "    <tr>\n",
       "      <th>75%</th>\n",
       "      <td>2020.0</td>\n",
       "      <td>180.000000</td>\n",
       "      <td>42.212500</td>\n",
       "      <td>35.232500</td>\n",
       "      <td>50.385000</td>\n",
       "    </tr>\n",
       "    <tr>\n",
       "      <th>max</th>\n",
       "      <td>2020.0</td>\n",
       "      <td>57605.000000</td>\n",
       "      <td>94.960000</td>\n",
       "      <td>77.430000</td>\n",
       "      <td>115.100000</td>\n",
       "    </tr>\n",
       "  </tbody>\n",
       "</table>\n",
       "</div>"
      ],
      "text/plain": [
       "         YEAR           OBS          DSR        LOWER        UPPER\n",
       "count  1074.0   1074.000000  1070.000000  1070.000000  1070.000000\n",
       "mean   2020.0    492.462756    33.527047    27.531000    40.628692\n",
       "std       0.0   3047.305941    14.041841    12.640997    16.002617\n",
       "min    2020.0      5.000000     7.010000     3.610000    12.270000\n",
       "25%    2020.0     55.000000    23.005000    18.110000    28.320000\n",
       "50%    2020.0    100.000000    31.195000    25.895000    37.530000\n",
       "75%    2020.0    180.000000    42.212500    35.232500    50.385000\n",
       "max    2020.0  57605.000000    94.960000    77.430000   115.100000"
      ]
     },
     "execution_count": 16,
     "metadata": {},
     "output_type": "execute_result"
    }
   ],
   "source": [
    "newDf.describe()"
   ]
  },
  {
   "cell_type": "code",
   "execution_count": 17,
   "id": "0fac12b5",
   "metadata": {},
   "outputs": [
    {
     "data": {
      "text/html": [
       "<div>\n",
       "<style scoped>\n",
       "    .dataframe tbody tr th:only-of-type {\n",
       "        vertical-align: middle;\n",
       "    }\n",
       "\n",
       "    .dataframe tbody tr th {\n",
       "        vertical-align: top;\n",
       "    }\n",
       "\n",
       "    .dataframe thead th {\n",
       "        text-align: right;\n",
       "    }\n",
       "</style>\n",
       "<table border=\"1\" class=\"dataframe\">\n",
       "  <thead>\n",
       "    <tr style=\"text-align: right;\">\n",
       "      <th></th>\n",
       "      <th>Geographic_level</th>\n",
       "      <th>SEX</th>\n",
       "    </tr>\n",
       "  </thead>\n",
       "  <tbody>\n",
       "    <tr>\n",
       "      <th>0</th>\n",
       "      <td>NATIONAL</td>\n",
       "      <td>M</td>\n",
       "    </tr>\n",
       "    <tr>\n",
       "      <th>1</th>\n",
       "      <td>NATIONAL</td>\n",
       "      <td>F</td>\n",
       "    </tr>\n",
       "    <tr>\n",
       "      <th>2</th>\n",
       "      <td>NATIONAL</td>\n",
       "      <td>P</td>\n",
       "    </tr>\n",
       "    <tr>\n",
       "      <th>3</th>\n",
       "      <td>NATIONAL</td>\n",
       "      <td>M</td>\n",
       "    </tr>\n",
       "    <tr>\n",
       "      <th>4</th>\n",
       "      <td>NATIONAL</td>\n",
       "      <td>F</td>\n",
       "    </tr>\n",
       "    <tr>\n",
       "      <th>...</th>\n",
       "      <td>...</td>\n",
       "      <td>...</td>\n",
       "    </tr>\n",
       "    <tr>\n",
       "      <th>1069</th>\n",
       "      <td>LONDON AUTHORITIES (boundaries as of April 2009)</td>\n",
       "      <td>F</td>\n",
       "    </tr>\n",
       "    <tr>\n",
       "      <th>1070</th>\n",
       "      <td>LONDON AUTHORITIES (boundaries as of April 2009)</td>\n",
       "      <td>P</td>\n",
       "    </tr>\n",
       "    <tr>\n",
       "      <th>1071</th>\n",
       "      <td>LONDON AUTHORITIES (boundaries as of April 2009)</td>\n",
       "      <td>M</td>\n",
       "    </tr>\n",
       "    <tr>\n",
       "      <th>1072</th>\n",
       "      <td>LONDON AUTHORITIES (boundaries as of April 2009)</td>\n",
       "      <td>F</td>\n",
       "    </tr>\n",
       "    <tr>\n",
       "      <th>1073</th>\n",
       "      <td>LONDON AUTHORITIES (boundaries as of April 2009)</td>\n",
       "      <td>P</td>\n",
       "    </tr>\n",
       "  </tbody>\n",
       "</table>\n",
       "<p>1074 rows × 2 columns</p>\n",
       "</div>"
      ],
      "text/plain": [
       "                                      Geographic_level SEX\n",
       "0                                             NATIONAL   M\n",
       "1                                             NATIONAL   F\n",
       "2                                             NATIONAL   P\n",
       "3                                             NATIONAL   M\n",
       "4                                             NATIONAL   F\n",
       "...                                                ...  ..\n",
       "1069  LONDON AUTHORITIES (boundaries as of April 2009)   F\n",
       "1070  LONDON AUTHORITIES (boundaries as of April 2009)   P\n",
       "1071  LONDON AUTHORITIES (boundaries as of April 2009)   M\n",
       "1072  LONDON AUTHORITIES (boundaries as of April 2009)   F\n",
       "1073  LONDON AUTHORITIES (boundaries as of April 2009)   P\n",
       "\n",
       "[1074 rows x 2 columns]"
      ]
     },
     "execution_count": 17,
     "metadata": {},
     "output_type": "execute_result"
    }
   ],
   "source": [
    "#df[ [\"ORG_TYPE_DESCRIPTION\",\"SEX\"] ].describe()   \n",
    "newDf[[\"Geographic_level\",\"SEX\"]]"
   ]
  },
  {
   "cell_type": "code",
   "execution_count": 18,
   "id": "d37fa19d",
   "metadata": {},
   "outputs": [
    {
     "data": {
      "text/plain": [
       "YEAR                   0\n",
       "Filename               0\n",
       "Geographic_level       0\n",
       "ORG_CODE               0\n",
       "NEW_CODE               0\n",
       "Geographic_Location    0\n",
       "SEX                    0\n",
       "OBS                    0\n",
       "DSR                    4\n",
       "LOWER                  4\n",
       "UPPER                  4\n",
       "dtype: int64"
      ]
     },
     "execution_count": 18,
     "metadata": {},
     "output_type": "execute_result"
    }
   ],
   "source": [
    "newDf.isnull().sum()"
   ]
  },
  {
   "cell_type": "code",
   "execution_count": 19,
   "id": "faa79c28",
   "metadata": {},
   "outputs": [],
   "source": [
    "newDfNull = df.dropna(inplace=True)"
   ]
  },
  {
   "cell_type": "code",
   "execution_count": 20,
   "id": "a73e765f",
   "metadata": {},
   "outputs": [],
   "source": [
    "newDfNull"
   ]
  },
  {
   "cell_type": "markdown",
   "id": "1aeeac67",
   "metadata": {},
   "source": [
    "Question number 1: Average Lower\n",
    "Question number 2: Geographic Location with highest amount of female MI\n",
    "Question number 3:Geographic location with most MI 2020"
   ]
  },
  {
   "cell_type": "code",
   "execution_count": null,
   "id": "727437ef",
   "metadata": {},
   "outputs": [],
   "source": []
  },
  {
   "cell_type": "code",
   "execution_count": 21,
   "id": "51f231f5",
   "metadata": {},
   "outputs": [
    {
     "data": {
      "text/html": [
       "<div>\n",
       "<style scoped>\n",
       "    .dataframe tbody tr th:only-of-type {\n",
       "        vertical-align: middle;\n",
       "    }\n",
       "\n",
       "    .dataframe tbody tr th {\n",
       "        vertical-align: top;\n",
       "    }\n",
       "\n",
       "    .dataframe thead th {\n",
       "        text-align: right;\n",
       "    }\n",
       "</style>\n",
       "<table border=\"1\" class=\"dataframe\">\n",
       "  <thead>\n",
       "    <tr style=\"text-align: right;\">\n",
       "      <th></th>\n",
       "      <th>YEAR</th>\n",
       "      <th>OBS</th>\n",
       "      <th>DSR</th>\n",
       "      <th>LOWER</th>\n",
       "      <th>UPPER</th>\n",
       "    </tr>\n",
       "    <tr>\n",
       "      <th>ORG_CODE</th>\n",
       "      <th></th>\n",
       "      <th></th>\n",
       "      <th></th>\n",
       "      <th></th>\n",
       "      <th></th>\n",
       "    </tr>\n",
       "  </thead>\n",
       "  <tbody>\n",
       "    <tr>\n",
       "      <th>00AB</th>\n",
       "      <td>6060</td>\n",
       "      <td>330</td>\n",
       "      <td>145.38</td>\n",
       "      <td>118.05</td>\n",
       "      <td>177.15</td>\n",
       "    </tr>\n",
       "    <tr>\n",
       "      <th>00AC</th>\n",
       "      <td>6060</td>\n",
       "      <td>490</td>\n",
       "      <td>77.58</td>\n",
       "      <td>65.66</td>\n",
       "      <td>91.08</td>\n",
       "    </tr>\n",
       "    <tr>\n",
       "      <th>00AD</th>\n",
       "      <td>6060</td>\n",
       "      <td>360</td>\n",
       "      <td>80.84</td>\n",
       "      <td>66.38</td>\n",
       "      <td>97.56</td>\n",
       "    </tr>\n",
       "    <tr>\n",
       "      <th>00AE</th>\n",
       "      <td>6060</td>\n",
       "      <td>460</td>\n",
       "      <td>103.58</td>\n",
       "      <td>87.12</td>\n",
       "      <td>122.29</td>\n",
       "    </tr>\n",
       "    <tr>\n",
       "      <th>00AF</th>\n",
       "      <td>6060</td>\n",
       "      <td>465</td>\n",
       "      <td>76.33</td>\n",
       "      <td>64.34</td>\n",
       "      <td>89.94</td>\n",
       "    </tr>\n",
       "    <tr>\n",
       "      <th>...</th>\n",
       "      <td>...</td>\n",
       "      <td>...</td>\n",
       "      <td>...</td>\n",
       "      <td>...</td>\n",
       "      <td>...</td>\n",
       "    </tr>\n",
       "    <tr>\n",
       "      <th>H</th>\n",
       "      <td>6060</td>\n",
       "      <td>11060</td>\n",
       "      <td>94.23</td>\n",
       "      <td>91.09</td>\n",
       "      <td>97.47</td>\n",
       "    </tr>\n",
       "    <tr>\n",
       "      <th>J</th>\n",
       "      <td>6060</td>\n",
       "      <td>15740</td>\n",
       "      <td>84.79</td>\n",
       "      <td>82.44</td>\n",
       "      <td>87.20</td>\n",
       "    </tr>\n",
       "    <tr>\n",
       "      <th>K</th>\n",
       "      <td>6060</td>\n",
       "      <td>10820</td>\n",
       "      <td>85.99</td>\n",
       "      <td>83.12</td>\n",
       "      <td>88.95</td>\n",
       "    </tr>\n",
       "    <tr>\n",
       "      <th>Lon1</th>\n",
       "      <td>6060</td>\n",
       "      <td>3465</td>\n",
       "      <td>90.93</td>\n",
       "      <td>85.50</td>\n",
       "      <td>96.62</td>\n",
       "    </tr>\n",
       "    <tr>\n",
       "      <th>Lon2</th>\n",
       "      <td>6060</td>\n",
       "      <td>7590</td>\n",
       "      <td>95.73</td>\n",
       "      <td>91.90</td>\n",
       "      <td>99.69</td>\n",
       "    </tr>\n",
       "  </tbody>\n",
       "</table>\n",
       "<p>357 rows × 5 columns</p>\n",
       "</div>"
      ],
      "text/plain": [
       "          YEAR    OBS     DSR   LOWER   UPPER\n",
       "ORG_CODE                                     \n",
       "00AB      6060    330  145.38  118.05  177.15\n",
       "00AC      6060    490   77.58   65.66   91.08\n",
       "00AD      6060    360   80.84   66.38   97.56\n",
       "00AE      6060    460  103.58   87.12  122.29\n",
       "00AF      6060    465   76.33   64.34   89.94\n",
       "...        ...    ...     ...     ...     ...\n",
       "H         6060  11060   94.23   91.09   97.47\n",
       "J         6060  15740   84.79   82.44   87.20\n",
       "K         6060  10820   85.99   83.12   88.95\n",
       "Lon1      6060   3465   90.93   85.50   96.62\n",
       "Lon2      6060   7590   95.73   91.90   99.69\n",
       "\n",
       "[357 rows x 5 columns]"
      ]
     },
     "execution_count": 21,
     "metadata": {},
     "output_type": "execute_result"
    }
   ],
   "source": [
    "df.groupby(by=\"ORG_CODE\").sum()\n"
   ]
  },
  {
   "cell_type": "code",
   "execution_count": 22,
   "id": "52fd6396",
   "metadata": {},
   "outputs": [
    {
     "data": {
      "text/plain": [
       "YEAR\n",
       "2020    1070\n",
       "dtype: int64"
      ]
     },
     "execution_count": 22,
     "metadata": {},
     "output_type": "execute_result"
    }
   ],
   "source": [
    "df.groupby(by=\"YEAR\").size()"
   ]
  },
  {
   "cell_type": "code",
   "execution_count": 23,
   "id": "dd291263",
   "metadata": {},
   "outputs": [
    {
     "data": {
      "text/plain": [
       "ORG_CODE  YEAR\n",
       "00AB      2020    3\n",
       "00AC      2020    3\n",
       "00AD      2020    3\n",
       "00AE      2020    3\n",
       "00AF      2020    3\n",
       "                 ..\n",
       "H         2020    3\n",
       "J         2020    3\n",
       "K         2020    3\n",
       "Lon1      2020    3\n",
       "Lon2      2020    3\n",
       "Length: 357, dtype: int64"
      ]
     },
     "execution_count": 23,
     "metadata": {},
     "output_type": "execute_result"
    }
   ],
   "source": [
    "df.groupby(by=[\"ORG_CODE\", \"YEAR\"]).size()"
   ]
  },
  {
   "cell_type": "code",
   "execution_count": 24,
   "id": "df083d87",
   "metadata": {},
   "outputs": [
    {
     "data": {
      "text/plain": [
       "ORG_CODE  YEAR\n",
       "00AB      2020    39.350000\n",
       "00AC      2020    21.886667\n",
       "00AD      2020    22.126667\n",
       "00AE      2020    29.040000\n",
       "00AF      2020    21.446667\n",
       "                    ...    \n",
       "H         2020    30.363333\n",
       "J         2020    27.480000\n",
       "K         2020    27.706667\n",
       "Lon1      2020    28.500000\n",
       "Lon2      2020    30.633333\n",
       "Name: LOWER, Length: 357, dtype: float64"
      ]
     },
     "execution_count": 24,
     "metadata": {},
     "output_type": "execute_result"
    }
   ],
   "source": [
    "df.groupby(by=[\"ORG_CODE\", \"YEAR\",])[\"LOWER\"].mean()"
   ]
  },
  {
   "cell_type": "code",
   "execution_count": 25,
   "id": "38148b05",
   "metadata": {},
   "outputs": [],
   "source": [
    "#df.group_keys(by=[\"ORG_CODE\"])[\"Lon1\"]==True"
   ]
  },
  {
   "cell_type": "code",
   "execution_count": null,
   "id": "e8124483",
   "metadata": {},
   "outputs": [],
   "source": []
  },
  {
   "cell_type": "code",
   "execution_count": 26,
   "id": "271f9cde",
   "metadata": {},
   "outputs": [
    {
     "name": "stdout",
     "output_type": "stream",
     "text": [
      "<class 'pandas.core.frame.DataFrame'>\n",
      "Int64Index: 1070 entries, 0 to 1073\n",
      "Data columns (total 11 columns):\n",
      " #   Column                Non-Null Count  Dtype  \n",
      "---  ------                --------------  -----  \n",
      " 0   YEAR                  1070 non-null   int64  \n",
      " 1   Filename              1070 non-null   object \n",
      " 2   ORG_TYPE_DESCRIPTION  1070 non-null   object \n",
      " 3   ORG_CODE              1070 non-null   object \n",
      " 4   NEW_CODE              1070 non-null   object \n",
      " 5   ORG_TITLE             1070 non-null   object \n",
      " 6   SEX_CODE              1070 non-null   object \n",
      " 7   OBS                   1070 non-null   int64  \n",
      " 8   DSR                   1070 non-null   float64\n",
      " 9   LOWER                 1070 non-null   float64\n",
      " 10  UPPER                 1070 non-null   float64\n",
      "dtypes: float64(3), int64(2), object(6)\n",
      "memory usage: 100.3+ KB\n"
     ]
    }
   ],
   "source": [
    "df.info()"
   ]
  },
  {
   "cell_type": "code",
   "execution_count": 27,
   "id": "4a90730b",
   "metadata": {},
   "outputs": [
    {
     "data": {
      "text/plain": [
       "0       False\n",
       "1       False\n",
       "2       False\n",
       "3       False\n",
       "4       False\n",
       "        ...  \n",
       "1069     True\n",
       "1070     True\n",
       "1071    False\n",
       "1072    False\n",
       "1073    False\n",
       "Name: ORG_CODE, Length: 1070, dtype: bool"
      ]
     },
     "execution_count": 27,
     "metadata": {},
     "output_type": "execute_result"
    }
   ],
   "source": [
    "df[\"ORG_CODE\"] == \"Lon1\""
   ]
  },
  {
   "cell_type": "code",
   "execution_count": 28,
   "id": "76b30b2a",
   "metadata": {},
   "outputs": [
    {
     "name": "stdout",
     "output_type": "stream",
     "text": [
      "Average of for Inner London: YEAR     2020.000000\n",
      "OBS      1155.000000\n",
      "DSR        30.310000\n",
      "LOWER      28.500000\n",
      "UPPER      32.206667\n",
      "dtype: float64\n"
     ]
    },
    {
     "name": "stderr",
     "output_type": "stream",
     "text": [
      "<ipython-input-28-90b6947e2057>:1: FutureWarning: Dropping of nuisance columns in DataFrame reductions (with 'numeric_only=None') is deprecated; in a future version this will raise TypeError.  Select only valid columns before calling the reduction.\n",
      "  print(f'Average of for Inner London: { df[df[\"ORG_CODE\"] == \"Lon1\"].mean() }')\n"
     ]
    }
   ],
   "source": [
    "print(f'Average of for Inner London: { df[df[\"ORG_CODE\"] == \"Lon1\"].mean() }')\n"
   ]
  },
  {
   "cell_type": "code",
   "execution_count": 29,
   "id": "854070c3",
   "metadata": {},
   "outputs": [
    {
     "name": "stdout",
     "output_type": "stream",
     "text": [
      "Average of for Inner London: 30.310000000000002\n"
     ]
    },
    {
     "name": "stderr",
     "output_type": "stream",
     "text": [
      "<ipython-input-29-457f432dc2a5>:1: FutureWarning: Dropping of nuisance columns in DataFrame reductions (with 'numeric_only=None') is deprecated; in a future version this will raise TypeError.  Select only valid columns before calling the reduction.\n",
      "  print(f'Average of for Inner London: { df[df[\"ORG_CODE\"] == \"Lon1\"].mean()[\"DSR\"] }')\n"
     ]
    }
   ],
   "source": [
    "print(f'Average of for Inner London: { df[df[\"ORG_CODE\"] == \"Lon1\"].mean()[\"DSR\"] }')"
   ]
  },
  {
   "cell_type": "code",
   "execution_count": 30,
   "id": "c503717a",
   "metadata": {},
   "outputs": [
    {
     "name": "stdout",
     "output_type": "stream",
     "text": [
      "<class 'pandas.core.frame.DataFrame'>\n",
      "Int64Index: 1070 entries, 0 to 1073\n",
      "Data columns (total 11 columns):\n",
      " #   Column                Non-Null Count  Dtype  \n",
      "---  ------                --------------  -----  \n",
      " 0   YEAR                  1070 non-null   int64  \n",
      " 1   Filename              1070 non-null   object \n",
      " 2   ORG_TYPE_DESCRIPTION  1070 non-null   object \n",
      " 3   ORG_CODE              1070 non-null   object \n",
      " 4   NEW_CODE              1070 non-null   object \n",
      " 5   ORG_TITLE             1070 non-null   object \n",
      " 6   SEX_CODE              1070 non-null   object \n",
      " 7   OBS                   1070 non-null   int64  \n",
      " 8   DSR                   1070 non-null   float64\n",
      " 9   LOWER                 1070 non-null   float64\n",
      " 10  UPPER                 1070 non-null   float64\n",
      "dtypes: float64(3), int64(2), object(6)\n",
      "memory usage: 100.3+ KB\n"
     ]
    }
   ],
   "source": [
    "df.info()"
   ]
  },
  {
   "cell_type": "markdown",
   "id": "34848c40",
   "metadata": {},
   "source": [
    "### Future warning\n",
    "\n",
    "Indikerar att jag skickar in kolumner som iunte är tal --> bara skicka in kolumn [\"DSR\"]"
   ]
  },
  {
   "cell_type": "code",
   "execution_count": 31,
   "id": "c5d1c204",
   "metadata": {},
   "outputs": [
    {
     "name": "stdout",
     "output_type": "stream",
     "text": [
      "Average of for Inner London: 30.310000000000002\n"
     ]
    }
   ],
   "source": [
    "print(f'Average of for Inner London: { df[df[\"ORG_CODE\"] == \"Lon1\"][\"DSR\"].mean()}')\n"
   ]
  },
  {
   "cell_type": "code",
   "execution_count": 32,
   "id": "7c21d7e9",
   "metadata": {},
   "outputs": [
    {
     "name": "stdout",
     "output_type": "stream",
     "text": [
      "Ended:  2023-03-24 15:53:54.538318\n",
      "Time elapsed (hh:mm:ass.ms) 0:00:04.391547\n"
     ]
    }
   ],
   "source": [
    "end = datetime.now()\n",
    "print(\"Ended: \", end) \n",
    "print('Time elapsed (hh:mm:ass.ms) {}'.format(datetime.now() - start_time))"
   ]
  }
 ],
 "metadata": {
  "kernelspec": {
   "display_name": "Python 3",
   "language": "python",
   "name": "python3"
  },
  "language_info": {
   "codemirror_mode": {
    "name": "ipython",
    "version": 3
   },
   "file_extension": ".py",
   "mimetype": "text/x-python",
   "name": "python",
   "nbconvert_exporter": "python",
   "pygments_lexer": "ipython3",
   "version": "3.9.13"
  }
 },
 "nbformat": 4,
 "nbformat_minor": 5
}
