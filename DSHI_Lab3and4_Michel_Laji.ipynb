{
 "cells": [
  {
   "cell_type": "markdown",
   "metadata": {
    "id": "U3-4q-9daAXH"
   },
   "source": [
    "### Heart failure clinical records"
   ]
  },
  {
   "cell_type": "markdown",
   "metadata": {
    "id": "p7kc4b5_cKQt"
   },
   "source": [
    "#student_name =   \"Michel Laji\"\n",
    "#student_id =     \"mila1958\"\n",
    "#student_background =  \"medical\""
   ]
  },
  {
   "cell_type": "code",
   "execution_count": 1,
   "metadata": {
    "executionInfo": {
     "elapsed": 1638,
     "status": "ok",
     "timestamp": 1682326323756,
     "user": {
      "displayName": "moetfoet",
      "userId": "00830571784391831935"
     },
     "user_tz": -120
    },
    "id": "rfCVuZEScK-R"
   },
   "outputs": [],
   "source": [
    "# Numeric analysis\n",
    "import numpy as np\n",
    "import pandas as pd\n",
    "import matplotlib.pyplot as plt\n",
    "import warnings\n",
    "from sklearn.datasets import make_blobs, make_moons\n",
    "from sklearn.preprocessing import StandardScaler\n",
    "from sklearn.model_selection import train_test_split\n",
    "from sklearn.tree import DecisionTreeClassifier\n",
    "from sklearn.metrics import accuracy_score\n",
    "from sklearn.tree import plot_tree\n",
    "from sklearn.preprocessing import MinMaxScaler\n",
    "from sklearn.neighbors import KNeighborsClassifier\n",
    "from sklearn.ensemble import RandomForestClassifier\n",
    "warnings.simplefilter(action='ignore', category=FutureWarning)\n",
    "# Set the seed of the pseudo randomization to guarantee that results are reproducible between executions\n",
    "RANDOM_SEED = 2023\n",
    "np.random.seed(RANDOM_SEED)\n"
   ]
  },
  {
   "cell_type": "code",
   "execution_count": 2,
   "metadata": {
    "colab": {
     "base_uri": "https://localhost:8080/",
     "height": 417
    },
    "executionInfo": {
     "elapsed": 252,
     "status": "error",
     "timestamp": 1682326393960,
     "user": {
      "displayName": "moetfoet",
      "userId": "00830571784391831935"
     },
     "user_tz": -120
    },
    "id": "aU-jMMUjdh1b",
    "outputId": "d001c832-a92b-4ddc-e85f-fc7acba949c3"
   },
   "outputs": [
    {
     "data": {
      "text/html": [
       "<div>\n",
       "<style scoped>\n",
       "    .dataframe tbody tr th:only-of-type {\n",
       "        vertical-align: middle;\n",
       "    }\n",
       "\n",
       "    .dataframe tbody tr th {\n",
       "        vertical-align: top;\n",
       "    }\n",
       "\n",
       "    .dataframe thead th {\n",
       "        text-align: right;\n",
       "    }\n",
       "</style>\n",
       "<table border=\"1\" class=\"dataframe\">\n",
       "  <thead>\n",
       "    <tr style=\"text-align: right;\">\n",
       "      <th></th>\n",
       "      <th>age</th>\n",
       "      <th>anaemia</th>\n",
       "      <th>creatinine_phosphokinase</th>\n",
       "      <th>diabetes</th>\n",
       "      <th>ejection_fraction</th>\n",
       "      <th>high_blood_pressure</th>\n",
       "      <th>platelets</th>\n",
       "      <th>serum_creatinine</th>\n",
       "      <th>serum_sodium</th>\n",
       "      <th>sex</th>\n",
       "      <th>smoking</th>\n",
       "      <th>time</th>\n",
       "      <th>DEATH_EVENT</th>\n",
       "    </tr>\n",
       "  </thead>\n",
       "  <tbody>\n",
       "    <tr>\n",
       "      <th>0</th>\n",
       "      <td>75.0</td>\n",
       "      <td>0</td>\n",
       "      <td>582</td>\n",
       "      <td>0</td>\n",
       "      <td>20</td>\n",
       "      <td>1</td>\n",
       "      <td>265000.00</td>\n",
       "      <td>1.9</td>\n",
       "      <td>130</td>\n",
       "      <td>1</td>\n",
       "      <td>0</td>\n",
       "      <td>4</td>\n",
       "      <td>1</td>\n",
       "    </tr>\n",
       "    <tr>\n",
       "      <th>1</th>\n",
       "      <td>55.0</td>\n",
       "      <td>0</td>\n",
       "      <td>7861</td>\n",
       "      <td>0</td>\n",
       "      <td>38</td>\n",
       "      <td>0</td>\n",
       "      <td>263358.03</td>\n",
       "      <td>1.1</td>\n",
       "      <td>136</td>\n",
       "      <td>1</td>\n",
       "      <td>0</td>\n",
       "      <td>6</td>\n",
       "      <td>1</td>\n",
       "    </tr>\n",
       "    <tr>\n",
       "      <th>2</th>\n",
       "      <td>65.0</td>\n",
       "      <td>0</td>\n",
       "      <td>146</td>\n",
       "      <td>0</td>\n",
       "      <td>20</td>\n",
       "      <td>0</td>\n",
       "      <td>162000.00</td>\n",
       "      <td>1.3</td>\n",
       "      <td>129</td>\n",
       "      <td>1</td>\n",
       "      <td>1</td>\n",
       "      <td>7</td>\n",
       "      <td>1</td>\n",
       "    </tr>\n",
       "    <tr>\n",
       "      <th>3</th>\n",
       "      <td>50.0</td>\n",
       "      <td>1</td>\n",
       "      <td>111</td>\n",
       "      <td>0</td>\n",
       "      <td>20</td>\n",
       "      <td>0</td>\n",
       "      <td>210000.00</td>\n",
       "      <td>1.9</td>\n",
       "      <td>137</td>\n",
       "      <td>1</td>\n",
       "      <td>0</td>\n",
       "      <td>7</td>\n",
       "      <td>1</td>\n",
       "    </tr>\n",
       "    <tr>\n",
       "      <th>4</th>\n",
       "      <td>65.0</td>\n",
       "      <td>1</td>\n",
       "      <td>160</td>\n",
       "      <td>1</td>\n",
       "      <td>20</td>\n",
       "      <td>0</td>\n",
       "      <td>327000.00</td>\n",
       "      <td>2.7</td>\n",
       "      <td>116</td>\n",
       "      <td>0</td>\n",
       "      <td>0</td>\n",
       "      <td>8</td>\n",
       "      <td>1</td>\n",
       "    </tr>\n",
       "  </tbody>\n",
       "</table>\n",
       "</div>"
      ],
      "text/plain": [
       "    age  anaemia  creatinine_phosphokinase  diabetes  ejection_fraction  \\\n",
       "0  75.0        0                       582         0                 20   \n",
       "1  55.0        0                      7861         0                 38   \n",
       "2  65.0        0                       146         0                 20   \n",
       "3  50.0        1                       111         0                 20   \n",
       "4  65.0        1                       160         1                 20   \n",
       "\n",
       "   high_blood_pressure  platelets  serum_creatinine  serum_sodium  sex  \\\n",
       "0                    1  265000.00               1.9           130    1   \n",
       "1                    0  263358.03               1.1           136    1   \n",
       "2                    0  162000.00               1.3           129    1   \n",
       "3                    0  210000.00               1.9           137    1   \n",
       "4                    0  327000.00               2.7           116    0   \n",
       "\n",
       "   smoking  time  DEATH_EVENT  \n",
       "0        0     4            1  \n",
       "1        0     6            1  \n",
       "2        1     7            1  \n",
       "3        0     7            1  \n",
       "4        0     8            1  "
      ]
     },
     "execution_count": 2,
     "metadata": {},
     "output_type": "execute_result"
    }
   ],
   "source": [
    "df_Kajsa = pd.read_csv(\"Kajsa.csv\")\n",
    "df_Kajsa.head()"
   ]
  },
  {
   "cell_type": "code",
   "execution_count": 3,
   "metadata": {},
   "outputs": [],
   "source": [
    "#data_blobs_X, data_blobs_y = make_blobs(n_samples=100, n_features=2,\n",
    "#                                        cluster_std=3,  # Induce some noise on the blobs\n",
    "#                                        centers=2,  # Two classes\n",
    "#                                        random_state=RANDOM_SEED)"
   ]
  },
  {
   "cell_type": "code",
   "execution_count": 4,
   "metadata": {},
   "outputs": [],
   "source": [
    "#data_blobs_X"
   ]
  },
  {
   "cell_type": "code",
   "execution_count": 5,
   "metadata": {},
   "outputs": [
    {
     "data": {
      "text/plain": [
       "age                         float64\n",
       "anaemia                       int64\n",
       "creatinine_phosphokinase      int64\n",
       "diabetes                      int64\n",
       "ejection_fraction             int64\n",
       "high_blood_pressure           int64\n",
       "platelets                   float64\n",
       "serum_creatinine            float64\n",
       "serum_sodium                  int64\n",
       "sex                           int64\n",
       "smoking                       int64\n",
       "time                          int64\n",
       "DEATH_EVENT                   int64\n",
       "dtype: object"
      ]
     },
     "execution_count": 5,
     "metadata": {},
     "output_type": "execute_result"
    }
   ],
   "source": [
    "df_Kajsa.dtypes"
   ]
  },
  {
   "cell_type": "code",
   "execution_count": 7,
   "metadata": {},
   "outputs": [
    {
     "data": {
      "text/plain": [
       "sex  ejection_fraction  platelets\n",
       "0    15                 213000.0     1\n",
       "     17                 271000.0     1\n",
       "     20                 279000.0     1\n",
       "                        327000.0     1\n",
       "                        418000.0     1\n",
       "                                    ..\n",
       "1    60                 337000.0     1\n",
       "                        368000.0     1\n",
       "                        377000.0     1\n",
       "                        454000.0     1\n",
       "     62                 147000.0     1\n",
       "Length: 280, dtype: int64"
      ]
     },
     "execution_count": 7,
     "metadata": {},
     "output_type": "execute_result"
    }
   ],
   "source": [
    "df_Kajsa.groupby(by= [\"sex\",\"ejection_fraction\",\"platelets\"]).size()"
   ]
  },
  {
   "cell_type": "code",
   "execution_count": 13,
   "metadata": {},
   "outputs": [
    {
     "data": {
      "text/plain": [
       "0      20\n",
       "1      38\n",
       "2      20\n",
       "3      20\n",
       "4      20\n",
       "       ..\n",
       "294    38\n",
       "295    38\n",
       "296    60\n",
       "297    38\n",
       "298    45\n",
       "Name: ejection_fraction, Length: 299, dtype: int64"
      ]
     },
     "execution_count": 13,
     "metadata": {},
     "output_type": "execute_result"
    }
   ],
   "source": [
    "df_Kajsa[\"ejection_fraction\"]"
   ]
  },
  {
   "cell_type": "code",
   "execution_count": 12,
   "metadata": {},
   "outputs": [
    {
     "data": {
      "text/plain": [
       "0      265000.00\n",
       "1      263358.03\n",
       "2      162000.00\n",
       "3      210000.00\n",
       "4      327000.00\n",
       "         ...    \n",
       "294    155000.00\n",
       "295    270000.00\n",
       "296    742000.00\n",
       "297    140000.00\n",
       "298    395000.00\n",
       "Name: platelets, Length: 299, dtype: float64"
      ]
     },
     "execution_count": 12,
     "metadata": {},
     "output_type": "execute_result"
    }
   ],
   "source": [
    "df_Kajsa[\"platelets\"]"
   ]
  },
  {
   "cell_type": "code",
   "execution_count": 14,
   "metadata": {},
   "outputs": [
    {
     "data": {
      "text/html": [
       "<div>\n",
       "<style scoped>\n",
       "    .dataframe tbody tr th:only-of-type {\n",
       "        vertical-align: middle;\n",
       "    }\n",
       "\n",
       "    .dataframe tbody tr th {\n",
       "        vertical-align: top;\n",
       "    }\n",
       "\n",
       "    .dataframe thead th {\n",
       "        text-align: right;\n",
       "    }\n",
       "</style>\n",
       "<table border=\"1\" class=\"dataframe\">\n",
       "  <thead>\n",
       "    <tr style=\"text-align: right;\">\n",
       "      <th></th>\n",
       "      <th>ejection_fraction</th>\n",
       "      <th>platelets</th>\n",
       "      <th>sex</th>\n",
       "    </tr>\n",
       "  </thead>\n",
       "  <tbody>\n",
       "    <tr>\n",
       "      <th>259</th>\n",
       "      <td>50</td>\n",
       "      <td>308000.00</td>\n",
       "      <td>1</td>\n",
       "    </tr>\n",
       "    <tr>\n",
       "      <th>24</th>\n",
       "      <td>30</td>\n",
       "      <td>263358.03</td>\n",
       "      <td>0</td>\n",
       "    </tr>\n",
       "    <tr>\n",
       "      <th>148</th>\n",
       "      <td>30</td>\n",
       "      <td>225000.00</td>\n",
       "      <td>1</td>\n",
       "    </tr>\n",
       "    <tr>\n",
       "      <th>195</th>\n",
       "      <td>45</td>\n",
       "      <td>223000.00</td>\n",
       "      <td>1</td>\n",
       "    </tr>\n",
       "    <tr>\n",
       "      <th>161</th>\n",
       "      <td>35</td>\n",
       "      <td>174000.00</td>\n",
       "      <td>1</td>\n",
       "    </tr>\n",
       "    <tr>\n",
       "      <th>156</th>\n",
       "      <td>35</td>\n",
       "      <td>277000.00</td>\n",
       "      <td>0</td>\n",
       "    </tr>\n",
       "    <tr>\n",
       "      <th>229</th>\n",
       "      <td>25</td>\n",
       "      <td>274000.00</td>\n",
       "      <td>0</td>\n",
       "    </tr>\n",
       "    <tr>\n",
       "      <th>257</th>\n",
       "      <td>38</td>\n",
       "      <td>253000.00</td>\n",
       "      <td>1</td>\n",
       "    </tr>\n",
       "    <tr>\n",
       "      <th>149</th>\n",
       "      <td>35</td>\n",
       "      <td>228000.00</td>\n",
       "      <td>1</td>\n",
       "    </tr>\n",
       "    <tr>\n",
       "      <th>62</th>\n",
       "      <td>35</td>\n",
       "      <td>254000.00</td>\n",
       "      <td>1</td>\n",
       "    </tr>\n",
       "  </tbody>\n",
       "</table>\n",
       "</div>"
      ],
      "text/plain": [
       "     ejection_fraction  platelets  sex\n",
       "259                 50  308000.00    1\n",
       "24                  30  263358.03    0\n",
       "148                 30  225000.00    1\n",
       "195                 45  223000.00    1\n",
       "161                 35  174000.00    1\n",
       "156                 35  277000.00    0\n",
       "229                 25  274000.00    0\n",
       "257                 38  253000.00    1\n",
       "149                 35  228000.00    1\n",
       "62                  35  254000.00    1"
      ]
     },
     "execution_count": 14,
     "metadata": {},
     "output_type": "execute_result"
    }
   ],
   "source": [
    "# Visualizing some samples in a dataframe for clarification\n",
    "df_Kajsa_testdata = pd.DataFrame({\n",
    "                        \"ejection_fraction\": df_Kajsa[\"ejection_fraction\"],\n",
    "                        \"platelets\": df_Kajsa[\"platelets\"],\n",
    "                        \"sex\": df_Kajsa[\"sex\"]\n",
    "                        })\n",
    "\n",
    "# Show random 10 samples from the data\n",
    "df_Kajsa_testdata.sample(10)"
   ]
  },
  {
   "cell_type": "code",
   "execution_count": 16,
   "metadata": {},
   "outputs": [],
   "source": [
    "df_Kajsa_testdata[\"sex\"] = df_Kajsa_testdata[\"sex\"].replace({\"Male\": 1, \"Female\": 0})"
   ]
  },
  {
   "cell_type": "code",
   "execution_count": null,
   "metadata": {},
   "outputs": [],
   "source": [
    "def visualize_dataset_with_target_class(X, y, title=\"\"):\n",
    "    plt.scatter(x=df_blobs.loc[df_blobs.sex == 1, \"platelets\"], y=df_blobs.loc[df_blobs.sex == 1, \"ejection_fraction\"], c=\"blue\", label=\"Male\")\n",
    "    plt.scatter(x=df_blobs.loc[df_blobs.sex == 0, \"platelets\"], y=df_blobs.loc[df_blobs.sex == 0, \"ejection_fraction\"], c=\"red\", label=\"Female\")\n",
    "    plt.xlabel(\"Platelets\")\n",
    "    plt.ylabel(\"Ejection Fraction\")\n",
    "    plt.title(title)\n",
    "    plt.grid(True)\n",
    "    plt.legend()\n",
    "    return plt.show()"
   ]
  },
  {
   "cell_type": "code",
   "execution_count": null,
   "metadata": {
    "scrolled": false
   },
   "outputs": [],
   "source": [
    "visualize_dataset_with_target_class(data_blobs_X, data_blobs_y, title=\"EF vs Platlets amongst Females and Males\")"
   ]
  },
  {
   "cell_type": "code",
   "execution_count": null,
   "metadata": {
    "scrolled": true
   },
   "outputs": [],
   "source": [
    "df_blobs.isnull().sum()"
   ]
  },
  {
   "cell_type": "code",
   "execution_count": null,
   "metadata": {
    "scrolled": true
   },
   "outputs": [],
   "source": [
    "np.random.seed(42)\n",
    "N_SAMPLES = 100\n",
    "data_blobs_X = np.random.normal(size=(N_SAMPLES, 2))\n",
    "data_blobs_y = np.random.binomial(n=1, p=0.5, size=N_SAMPLES)\n",
    "data_blobs_y[data_blobs_y == 0] = -1\n",
    "\n",
    "def visualize_dataset_with_target_class(X, y, title=\"\"):\n",
    "    male_X = X[y == 1]\n",
    "    female_X = X[y == -1]\n",
    "    \n",
    "    plt.scatter(x=male_X[:,1], y=male_X[:,0], c=\"blue\", label=\"Male\")\n",
    "    plt.scatter(x=female_X[:,1], y=female_X[:,0], c=\"red\", label=\"Female\")\n",
    "    \n",
    "    plt.xlabel(\"Platelets\")\n",
    "    plt.ylabel(\"Ejection Fraction\")\n",
    "    plt.title(title)\n",
    "    plt.grid(True)\n",
    "    plt.legend()\n",
    "    return plt.show()\n",
    "scaler = StandardScaler()\n",
    "scaler.fit(data_blobs_X)\n",
    "data_blobs_X_scaled = scaler.transform(data_blobs_X)\n",
    "df_blobs_scaled = pd.DataFrame(data_blobs_X_scaled, columns=[\"ejection_fraction\", \"platelets\"])\n",
    "df_blobs_scaled[\"sex\"] = data_blobs_y\n",
    "\n",
    "X_train, X_test, y_train, y_test = train_test_split(df_blobs_scaled.drop(\"sex\", axis=1), \n",
    "                                                    df_blobs_scaled[\"sex\"], \n",
    "                                                    test_size=0.2, \n",
    "                                                    random_state=42)\n",
    "\n",
    "visualize_dataset_with_target_class(X_train.values, y_train.values, title=\"Training set with original class labels\")"
   ]
  },
  {
   "cell_type": "code",
   "execution_count": null,
   "metadata": {},
   "outputs": [],
   "source": [
    "dt_clf = DecisionTreeClassifier(max_depth=3, random_state=42)\n",
    "dt_clf.fit(X_train, y_train)\n",
    "y_pred = dt_clf.predict(X_test)\n",
    "dblobs_y_predicted = dt_clf.predict(X_test)\n",
    "accuracy = accuracy_score(y_test, y_pred)\n",
    "print(\"Accuracy of decision tree classifier on test data:\", accuracy, \"and the class labels in the test set are:\", dblobs_y_predicted)"
   ]
  },
  {
   "cell_type": "code",
   "execution_count": null,
   "metadata": {},
   "outputs": [],
   "source": [
    "def visualize_and_compare_classifications(X, real_y, predicted_y, title=\"\"):\n",
    "    \"\"\"\n",
    "    Input:\n",
    "        X: (np.array[N,2]) - The dataset to visualize (only 2 features)\n",
    "        real_y: (np.array[N,1]) - Real class labels from X\n",
    "        predicted_y: (np.array[N,1]) - Predicted class labels from X\n",
    "    Returns:\n",
    "        A plot with two axes showing the real and the predicted labels\n",
    "    \"\"\"\n",
    "\n",
    "    fig, axes = plt.subplots(1, 2, figsize=(10,5))\n",
    "    \n",
    "    # First plot contains real class labels\n",
    "    ax = axes[0]\n",
    "    male_X = X[real_y == 1]\n",
    "    female_X = X[real_y == -1]\n",
    "    ax.scatter(x=male_X[:,1], y=male_X[:,0], c=\"blue\", label=\"Male\")\n",
    "    ax.scatter(x=female_X[:,1], y=female_X[:,0], c=\"red\", label=\"Female\")\n",
    "    ax.set(xlabel=\"Platelets\", ylabel=\"Ejection Fraction\", title=\"Real labels\")\n",
    "    ax.grid(True)\n",
    "    ax.legend()\n",
    "\n",
    "    # Second plot contains predicted class labels\n",
    "    ax = axes[1]\n",
    "    male_X = X[predicted_y == 1]\n",
    "    female_X = X[predicted_y == -1]\n",
    "    ax.scatter(x=male_X[:,1], y=male_X[:,0], c=\"blue\", label=\"Male\")\n",
    "    ax.scatter(x=female_X[:,1], y=female_X[:,0], c=\"red\", label=\"Female\")\n",
    "    ax.set(xlabel=\"Platelets\", ylabel=\"Ejection Fraction\", title=\"Predicted labels\")\n",
    "    ax.grid(True)\n",
    "    ax.legend()\n",
    "\n",
    "    if title != \"\":\n",
    "        plt.suptitle(title)\n",
    "\n",
    "    return plt.show()\n"
   ]
  },
  {
   "cell_type": "code",
   "execution_count": null,
   "metadata": {},
   "outputs": [],
   "source": [
    "visualize_and_compare_classifications(X_test.values, y_test.values, y_pred, title=\"Real and predicted classes for the test\")"
   ]
  },
  {
   "cell_type": "code",
   "execution_count": null,
   "metadata": {},
   "outputs": [],
   "source": [
    "def visualize_and_compare_decision_boundaries(X, real_y, classifier, title=\"\", step=0.005):\n",
    "    \"\"\"\n",
    "    Function based on the example from \n",
    "    https://scikit-learn.org/stable/auto_examples/ensemble/plot_voting_decision_regions.html\n",
    "    \n",
    "    Input:\n",
    "        X: (np.array[N,2]) - The dataset to visualize (only 2 features)\n",
    "        real_y: (np.array[N,1]) - Real class labels from X\n",
    "        classifier: (sklearn-object) - Object that classifies the data\n",
    "    Returns:\n",
    "        A plot with two axes showing the decision boundaries\n",
    "    \"\"\"\n",
    "    real_y = np.where(real_y == 1, -1, 1)\n",
    "    # Plotting decision regions\n",
    "    x_min, x_max = X[:, 0].min() - 0.5, X[:, 0].max() + 0.5\n",
    "    y_min, y_max = X[:, 1].min() - 0.5, X[:, 1].max() + 0.5\n",
    "\n",
    "    # We are creating a 2D grid of test data to be able to show the decision boundaries\n",
    "    xx, yy = np.meshgrid(np.arange(x_min, x_max, step), np.arange(y_min, y_max, step))\n",
    "\n",
    "    # And we apply the classifier to each sample in the 2D grid to see what would the prediction\n",
    "    # be at each specific point of the space\n",
    "    Z = dt_clf.predict(np.column_stack([xx.ravel(), yy.ravel()]))\n",
    "    Z = Z.reshape(xx.shape)\n",
    "\n",
    "    # Plot contains real class labels and \n",
    "    # the decision boundary created by the classifier\n",
    "    fig, ax = plt.subplots(figsize=(8,6))\n",
    "    ax.contourf(xx, yy, Z, alpha=0.3)\n",
    "    ax.scatter(x = X[:,0], y = X[:,1], c=real_y, s=30, edgecolor=\"k\", label=\"True class labels\")\n",
    "    ax.set(xlabel=\"Platelets\", ylabel=\"Ejection Fraction\")\n",
    "    ax.grid(True); ax.legend()\n",
    "\n",
    "    if title == \"\":\n",
    "        plt.suptitle(\"True class labels and predicted decision boundary\")\n",
    "    else:\n",
    "        plt.suptitle(title)\n",
    "\n",
    "    return plt.show()"
   ]
  },
  {
   "cell_type": "code",
   "execution_count": null,
   "metadata": {
    "scrolled": true
   },
   "outputs": [],
   "source": [
    "visualize_and_compare_decision_boundaries(X_test.values, y_test.values, y_pred)"
   ]
  },
  {
   "cell_type": "code",
   "execution_count": null,
   "metadata": {},
   "outputs": [],
   "source": [
    "plot_tree(dt_clf)"
   ]
  },
  {
   "cell_type": "code",
   "execution_count": null,
   "metadata": {},
   "outputs": [],
   "source": [
    "scaler = MinMaxScaler()\n",
    "\n",
    "data_norm_blobs_X = scaler.fit_transform(data_blobs_X)\n",
    "\n",
    "dblobs_norm_X_train, dblobs_norm_X_test, dblobs_y_train, dblobs_y_test = train_test_split(data_norm_blobs_X, \n",
    "                                                                                data_blobs_y,                                                                               test_size=0.3,\n",
    "                                                                                random_state=RANDOM_SEED)\n",
    "knn_classifier = KNeighborsClassifier(n_neighbors=1)\n",
    "knn_classifier.fit(dblobs_norm_X_train, dblobs_y_train)\n",
    "dblobs_y_predicted = knn_classifier.predict(dblobs_norm_X_test)"
   ]
  },
  {
   "cell_type": "code",
   "execution_count": null,
   "metadata": {
    "scrolled": true
   },
   "outputs": [],
   "source": [
    "visualize_and_compare_decision_boundaries(dblobs_norm_X_test, dblobs_y_test, knn_classifier)"
   ]
  },
  {
   "cell_type": "code",
   "execution_count": null,
   "metadata": {
    "scrolled": true
   },
   "outputs": [],
   "source": [
    "rf_classifier = RandomForestClassifier(n_estimators=10, max_depth=3, criterion=\"entropy\")\n",
    "rf_classifier.fit(X_train, y_train)\n",
    "y_predicted = rf_classifier.predict(X_test)\n",
    "print(\"According to the RF classifier, the class labels in the test set are: \", y_predicted)\n"
   ]
  },
  {
   "cell_type": "code",
   "execution_count": null,
   "metadata": {
    "scrolled": true
   },
   "outputs": [],
   "source": [
    "visualize_and_compare_decision_boundaries(X_test.values, y_test, rf_classifier)"
   ]
  }
 ],
 "metadata": {
  "colab": {
   "authorship_tag": "ABX9TyOJqeUvkGzK/I6tPd4/PYBU",
   "provenance": []
  },
  "kernelspec": {
   "display_name": "Python 3",
   "language": "python",
   "name": "python3"
  },
  "language_info": {
   "codemirror_mode": {
    "name": "ipython",
    "version": 3
   },
   "file_extension": ".py",
   "mimetype": "text/x-python",
   "name": "python",
   "nbconvert_exporter": "python",
   "pygments_lexer": "ipython3",
   "version": "3.9.13"
  }
 },
 "nbformat": 4,
 "nbformat_minor": 1
}
