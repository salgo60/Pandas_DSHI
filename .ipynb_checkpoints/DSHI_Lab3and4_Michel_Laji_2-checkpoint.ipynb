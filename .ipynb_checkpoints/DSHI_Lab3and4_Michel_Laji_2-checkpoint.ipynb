{
 "cells": [
  {
   "cell_type": "markdown",
   "metadata": {
    "id": "U3-4q-9daAXH"
   },
   "source": [
    "Heart failure clinical records"
   ]
  },
  {
   "cell_type": "markdown",
   "metadata": {
    "id": "p7kc4b5_cKQt"
   },
   "source": [
    "#student_name =   \"Michel Laji\"\n",
    "#student_id =     \"mila1958\"\n",
    "#student_background =  \"medical\""
   ]
  },
  {
   "cell_type": "code",
   "execution_count": 1,
   "metadata": {
    "executionInfo": {
     "elapsed": 1638,
     "status": "ok",
     "timestamp": 1682326323756,
     "user": {
      "displayName": "moetfoet",
      "userId": "00830571784391831935"
     },
     "user_tz": -120
    },
    "id": "rfCVuZEScK-R"
   },
   "outputs": [],
   "source": [
    "# Numeric analysis\n",
    "import numpy as np\n",
    "import pandas as pd\n",
    "import matplotlib.pyplot as plt\n",
    "import warnings\n",
    "from sklearn.datasets import make_blobs, make_moons\n",
    "from sklearn.preprocessing import StandardScaler\n",
    "from sklearn.model_selection import train_test_split\n",
    "from sklearn.tree import DecisionTreeClassifier\n",
    "from sklearn.metrics import accuracy_score\n",
    "from sklearn.tree import plot_tree\n",
    "from sklearn.preprocessing import MinMaxScaler\n",
    "from sklearn.neighbors import KNeighborsClassifier\n",
    "from sklearn.ensemble import RandomForestClassifier\n",
    "warnings.simplefilter(action='ignore', category=FutureWarning)\n",
    "# Set the seed of the pseudo randomization to guarantee that results are reproducible between executions\n",
    "RANDOM_SEED = 2023\n",
    "np.random.seed(RANDOM_SEED)\n"
   ]
  },
  {
   "cell_type": "code",
   "execution_count": 2,
   "metadata": {},
   "outputs": [],
   "source": [
    "df_blobs = pd.read_csv('Kajsa.csv')\n",
    "data_blobs_X = df_blobs[['ejection_fraction', 'platelets']].values\n",
    "data_blobs_y = df_blobs['sex'].values\n"
   ]
  },
  {
   "cell_type": "code",
   "execution_count": 3,
   "metadata": {},
   "outputs": [
    {
     "data": {
      "text/plain": [
       "age                         float64\n",
       "anaemia                       int64\n",
       "creatinine_phosphokinase      int64\n",
       "diabetes                      int64\n",
       "ejection_fraction             int64\n",
       "high_blood_pressure           int64\n",
       "platelets                   float64\n",
       "serum_creatinine            float64\n",
       "serum_sodium                  int64\n",
       "sex                           int64\n",
       "smoking                       int64\n",
       "time                          int64\n",
       "DEATH_EVENT                   int64\n",
       "dtype: object"
      ]
     },
     "execution_count": 3,
     "metadata": {},
     "output_type": "execute_result"
    }
   ],
   "source": [
    "df_blobs.dtypes"
   ]
  },
  {
   "cell_type": "code",
   "execution_count": 4,
   "metadata": {},
   "outputs": [
    {
     "data": {
      "text/plain": [
       "sex  ejection_fraction  platelets\n",
       "0    15                 213000.0     1\n",
       "     17                 271000.0     1\n",
       "     20                 279000.0     1\n",
       "                        327000.0     1\n",
       "                        418000.0     1\n",
       "                                    ..\n",
       "1    60                 337000.0     1\n",
       "                        368000.0     1\n",
       "                        377000.0     1\n",
       "                        454000.0     1\n",
       "     62                 147000.0     1\n",
       "Length: 280, dtype: int64"
      ]
     },
     "execution_count": 4,
     "metadata": {},
     "output_type": "execute_result"
    }
   ],
   "source": [
    "df_blobs.groupby(by= [\"sex\",\"ejection_fraction\",\"platelets\"]).size()"
   ]
  },
  {
   "cell_type": "code",
   "execution_count": 5,
   "metadata": {},
   "outputs": [
    {
     "data": {
      "text/html": [
       "<div>\n",
       "<style scoped>\n",
       "    .dataframe tbody tr th:only-of-type {\n",
       "        vertical-align: middle;\n",
       "    }\n",
       "\n",
       "    .dataframe tbody tr th {\n",
       "        vertical-align: top;\n",
       "    }\n",
       "\n",
       "    .dataframe thead th {\n",
       "        text-align: right;\n",
       "    }\n",
       "</style>\n",
       "<table border=\"1\" class=\"dataframe\">\n",
       "  <thead>\n",
       "    <tr style=\"text-align: right;\">\n",
       "      <th></th>\n",
       "      <th>ejection_fraction</th>\n",
       "      <th>platelets</th>\n",
       "      <th>sex</th>\n",
       "    </tr>\n",
       "  </thead>\n",
       "  <tbody>\n",
       "    <tr>\n",
       "      <th>259</th>\n",
       "      <td>50.0</td>\n",
       "      <td>308000.00</td>\n",
       "      <td>1</td>\n",
       "    </tr>\n",
       "    <tr>\n",
       "      <th>24</th>\n",
       "      <td>30.0</td>\n",
       "      <td>263358.03</td>\n",
       "      <td>0</td>\n",
       "    </tr>\n",
       "    <tr>\n",
       "      <th>148</th>\n",
       "      <td>30.0</td>\n",
       "      <td>225000.00</td>\n",
       "      <td>1</td>\n",
       "    </tr>\n",
       "    <tr>\n",
       "      <th>195</th>\n",
       "      <td>45.0</td>\n",
       "      <td>223000.00</td>\n",
       "      <td>1</td>\n",
       "    </tr>\n",
       "    <tr>\n",
       "      <th>161</th>\n",
       "      <td>35.0</td>\n",
       "      <td>174000.00</td>\n",
       "      <td>1</td>\n",
       "    </tr>\n",
       "    <tr>\n",
       "      <th>156</th>\n",
       "      <td>35.0</td>\n",
       "      <td>277000.00</td>\n",
       "      <td>0</td>\n",
       "    </tr>\n",
       "    <tr>\n",
       "      <th>229</th>\n",
       "      <td>25.0</td>\n",
       "      <td>274000.00</td>\n",
       "      <td>0</td>\n",
       "    </tr>\n",
       "    <tr>\n",
       "      <th>257</th>\n",
       "      <td>38.0</td>\n",
       "      <td>253000.00</td>\n",
       "      <td>1</td>\n",
       "    </tr>\n",
       "    <tr>\n",
       "      <th>149</th>\n",
       "      <td>35.0</td>\n",
       "      <td>228000.00</td>\n",
       "      <td>1</td>\n",
       "    </tr>\n",
       "    <tr>\n",
       "      <th>62</th>\n",
       "      <td>35.0</td>\n",
       "      <td>254000.00</td>\n",
       "      <td>1</td>\n",
       "    </tr>\n",
       "  </tbody>\n",
       "</table>\n",
       "</div>"
      ],
      "text/plain": [
       "     ejection_fraction  platelets  sex\n",
       "259               50.0  308000.00    1\n",
       "24                30.0  263358.03    0\n",
       "148               30.0  225000.00    1\n",
       "195               45.0  223000.00    1\n",
       "161               35.0  174000.00    1\n",
       "156               35.0  277000.00    0\n",
       "229               25.0  274000.00    0\n",
       "257               38.0  253000.00    1\n",
       "149               35.0  228000.00    1\n",
       "62                35.0  254000.00    1"
      ]
     },
     "execution_count": 5,
     "metadata": {},
     "output_type": "execute_result"
    }
   ],
   "source": [
    "# Visualizing some samples in a dataframe for clarification\n",
    "df_blobs = pd.DataFrame({\n",
    "                        \"ejection_fraction\": data_blobs_X[:,0],\n",
    "                        \"platelets\": data_blobs_X[:,1],\n",
    "                        \"sex\": data_blobs_y\n",
    "                        })\n",
    "\n",
    "# Show random 10 samples from the data\n",
    "df_blobs.sample(10)"
   ]
  },
  {
   "cell_type": "code",
   "execution_count": 24,
   "metadata": {},
   "outputs": [],
   "source": [
    "df_blobs[\"sexName\"] = df_blobs[\"sex\"].replace({1: \"Male\", 0: \"Female\"})"
   ]
  },
  {
   "cell_type": "code",
   "execution_count": 25,
   "metadata": {},
   "outputs": [
    {
     "data": {
      "text/html": [
       "<div>\n",
       "<style scoped>\n",
       "    .dataframe tbody tr th:only-of-type {\n",
       "        vertical-align: middle;\n",
       "    }\n",
       "\n",
       "    .dataframe tbody tr th {\n",
       "        vertical-align: top;\n",
       "    }\n",
       "\n",
       "    .dataframe thead th {\n",
       "        text-align: right;\n",
       "    }\n",
       "</style>\n",
       "<table border=\"1\" class=\"dataframe\">\n",
       "  <thead>\n",
       "    <tr style=\"text-align: right;\">\n",
       "      <th></th>\n",
       "      <th>ejection_fraction</th>\n",
       "      <th>platelets</th>\n",
       "      <th>sex</th>\n",
       "      <th>sexName</th>\n",
       "    </tr>\n",
       "  </thead>\n",
       "  <tbody>\n",
       "    <tr>\n",
       "      <th>0</th>\n",
       "      <td>20.0</td>\n",
       "      <td>265000.00</td>\n",
       "      <td>1</td>\n",
       "      <td>Male</td>\n",
       "    </tr>\n",
       "    <tr>\n",
       "      <th>1</th>\n",
       "      <td>38.0</td>\n",
       "      <td>263358.03</td>\n",
       "      <td>1</td>\n",
       "      <td>Male</td>\n",
       "    </tr>\n",
       "    <tr>\n",
       "      <th>2</th>\n",
       "      <td>20.0</td>\n",
       "      <td>162000.00</td>\n",
       "      <td>1</td>\n",
       "      <td>Male</td>\n",
       "    </tr>\n",
       "    <tr>\n",
       "      <th>3</th>\n",
       "      <td>20.0</td>\n",
       "      <td>210000.00</td>\n",
       "      <td>1</td>\n",
       "      <td>Male</td>\n",
       "    </tr>\n",
       "    <tr>\n",
       "      <th>4</th>\n",
       "      <td>20.0</td>\n",
       "      <td>327000.00</td>\n",
       "      <td>0</td>\n",
       "      <td>Female</td>\n",
       "    </tr>\n",
       "    <tr>\n",
       "      <th>...</th>\n",
       "      <td>...</td>\n",
       "      <td>...</td>\n",
       "      <td>...</td>\n",
       "      <td>...</td>\n",
       "    </tr>\n",
       "    <tr>\n",
       "      <th>294</th>\n",
       "      <td>38.0</td>\n",
       "      <td>155000.00</td>\n",
       "      <td>1</td>\n",
       "      <td>Male</td>\n",
       "    </tr>\n",
       "    <tr>\n",
       "      <th>295</th>\n",
       "      <td>38.0</td>\n",
       "      <td>270000.00</td>\n",
       "      <td>0</td>\n",
       "      <td>Female</td>\n",
       "    </tr>\n",
       "    <tr>\n",
       "      <th>296</th>\n",
       "      <td>60.0</td>\n",
       "      <td>742000.00</td>\n",
       "      <td>0</td>\n",
       "      <td>Female</td>\n",
       "    </tr>\n",
       "    <tr>\n",
       "      <th>297</th>\n",
       "      <td>38.0</td>\n",
       "      <td>140000.00</td>\n",
       "      <td>1</td>\n",
       "      <td>Male</td>\n",
       "    </tr>\n",
       "    <tr>\n",
       "      <th>298</th>\n",
       "      <td>45.0</td>\n",
       "      <td>395000.00</td>\n",
       "      <td>1</td>\n",
       "      <td>Male</td>\n",
       "    </tr>\n",
       "  </tbody>\n",
       "</table>\n",
       "<p>299 rows × 4 columns</p>\n",
       "</div>"
      ],
      "text/plain": [
       "     ejection_fraction  platelets  sex sexName\n",
       "0                 20.0  265000.00    1    Male\n",
       "1                 38.0  263358.03    1    Male\n",
       "2                 20.0  162000.00    1    Male\n",
       "3                 20.0  210000.00    1    Male\n",
       "4                 20.0  327000.00    0  Female\n",
       "..                 ...        ...  ...     ...\n",
       "294               38.0  155000.00    1    Male\n",
       "295               38.0  270000.00    0  Female\n",
       "296               60.0  742000.00    0  Female\n",
       "297               38.0  140000.00    1    Male\n",
       "298               45.0  395000.00    1    Male\n",
       "\n",
       "[299 rows x 4 columns]"
      ]
     },
     "execution_count": 25,
     "metadata": {},
     "output_type": "execute_result"
    }
   ],
   "source": [
    "df_blobs"
   ]
  },
  {
   "cell_type": "code",
   "execution_count": 8,
   "metadata": {},
   "outputs": [],
   "source": [
    "def visualize_dataset_with_target_class(title=\"\"):\n",
    "    plt.scatter(x=df_blobs.loc[df_blobs.sex == 1, \"platelets\"], y=df_blobs.loc[df_blobs.sex == 1, \"ejection_fraction\"], c=\"blue\", label=\"Male\")\n",
    "    plt.scatter(x=df_blobs.loc[df_blobs.sex == 0, \"platelets\"], y=df_blobs.loc[df_blobs.sex == 0, \"ejection_fraction\"], c=\"red\", label=\"Female\")\n",
    "    plt.xlabel(\"Platelets\")\n",
    "    plt.ylabel(\"Ejection Fraction\")\n",
    "    plt.title(title)\n",
    "    plt.grid(True)\n",
    "    plt.legend()\n",
    "    return plt.show()"
   ]
  },
  {
   "cell_type": "code",
   "execution_count": 9,
   "metadata": {
    "scrolled": false
   },
   "outputs": [
    {
     "data": {
      "image/png": "[encoded data removed]",
      "text/plain": [
       "<Figure size 432x288 with 1 Axes>"
      ]
     },
     "metadata": {
      "needs_background": "light"
     },
     "output_type": "display_data"
    }
   ],
   "source": [
    "visualize_dataset_with_target_class(title=\"EF vs Platlets amongst Females and Males\")"
   ]
  },
  {
   "cell_type": "code",
   "execution_count": 10,
   "metadata": {
    "scrolled": true
   },
   "outputs": [
    {
     "data": {
      "text/plain": [
       "ejection_fraction    0\n",
       "platelets            0\n",
       "sex                  0\n",
       "dtype: int64"
      ]
     },
     "execution_count": 10,
     "metadata": {},
     "output_type": "execute_result"
    }
   ],
   "source": [
    "df_blobs.isnull().sum()"
   ]
  },
  {
   "cell_type": "code",
   "execution_count": 11,
   "metadata": {
    "scrolled": true
   },
   "outputs": [
    {
     "data": {
      "image/png": "[encoded data removed]",
      "text/plain": [
       "<Figure size 432x288 with 1 Axes>"
      ]
     },
     "metadata": {
      "needs_background": "light"
     },
     "output_type": "display_data"
    }
   ],
   "source": [
    "np.random.seed(42)\n",
    "N_SAMPLES = 100\n",
    "data_blobs_X = np.random.normal(size=(N_SAMPLES, 2))\n",
    "data_blobs_y = np.random.binomial(n=1, p=0.5, size=N_SAMPLES)\n",
    "data_blobs_y[data_blobs_y == 0] = -1\n",
    "\n",
    "def visualize_dataset_with_target_class(X, y, title=\"\"):\n",
    "    male_X = X[y == 1]\n",
    "    female_X = X[y == -1]\n",
    "    \n",
    "    plt.scatter(x=male_X[:,1], y=male_X[:,0], c=\"blue\", label=\"Male\")\n",
    "    plt.scatter(x=female_X[:,1], y=female_X[:,0], c=\"red\", label=\"Female\")\n",
    "    \n",
    "    plt.xlabel(\"Platelets\")\n",
    "    plt.ylabel(\"Ejection Fraction\")\n",
    "    plt.title(title)\n",
    "    plt.grid(True)\n",
    "    plt.legend()\n",
    "    return plt.show()\n",
    "scaler = StandardScaler()\n",
    "scaler.fit(data_blobs_X)\n",
    "data_blobs_X_scaled = scaler.transform(data_blobs_X)\n",
    "df_blobs_scaled = pd.DataFrame(data_blobs_X_scaled, columns=[\"ejection_fraction\", \"platelets\"])\n",
    "df_blobs_scaled[\"sex\"] = data_blobs_y\n",
    "\n",
    "X_train, X_test, y_train, y_test = train_test_split(df_blobs_scaled.drop(\"sex\", axis=1), \n",
    "                                                    df_blobs_scaled[\"sex\"], \n",
    "                                                    test_size=0.2, \n",
    "                                                    random_state=42)\n",
    "\n",
    "visualize_dataset_with_target_class(X_train.values, y_train.values, title=\"Training set with original class labels\")"
   ]
  },
  {
   "cell_type": "code",
   "execution_count": 12,
   "metadata": {},
   "outputs": [
    {
     "name": "stdout",
     "output_type": "stream",
     "text": [
      "Accuracy of decision tree classifier on test data: 0.4 and the class labels in the test set are: [ 1 -1  1  1 -1  1  1  1  1 -1  1 -1  1  1  1 -1 -1  1 -1  1]\n"
     ]
    }
   ],
   "source": [
    "dt_clf = DecisionTreeClassifier(max_depth=3, random_state=42)\n",
    "dt_clf.fit(X_train, y_train)\n",
    "y_pred = dt_clf.predict(X_test)\n",
    "dblobs_y_predicted = dt_clf.predict(X_test)\n",
    "accuracy = accuracy_score(y_test, y_pred)\n",
    "print(\"Accuracy of decision tree classifier on test data:\", accuracy, \"and the class labels in the test set are:\", dblobs_y_predicted)"
   ]
  },
  {
   "cell_type": "code",
   "execution_count": 13,
   "metadata": {},
   "outputs": [],
   "source": [
    "def visualize_and_compare_classifications(X, real_y, predicted_y, title=\"\"):\n",
    "    \"\"\"\n",
    "    Input:\n",
    "        X: (np.array[N,2]) - The dataset to visualize (only 2 features)\n",
    "        real_y: (np.array[N,1]) - Real class labels from X\n",
    "        predicted_y: (np.array[N,1]) - Predicted class labels from X\n",
    "    Returns:\n",
    "        A plot with two axes showing the real and the predicted labels\n",
    "    \"\"\"\n",
    "\n",
    "    fig, axes = plt.subplots(1, 2, figsize=(10,5))\n",
    "    \n",
    "    # First plot contains real class labels\n",
    "    ax = axes[0]\n",
    "    male_X = X[real_y == 1]\n",
    "    female_X = X[real_y == -1]\n",
    "    ax.scatter(x=male_X[:,1], y=male_X[:,0], c=\"blue\", label=\"Male\")\n",
    "    ax.scatter(x=female_X[:,1], y=female_X[:,0], c=\"red\", label=\"Female\")\n",
    "    ax.set(xlabel=\"Platelets\", ylabel=\"Ejection Fraction\", title=\"Real labels\")\n",
    "    ax.grid(True)\n",
    "    ax.legend()\n",
    "\n",
    "    # Second plot contains predicted class labels\n",
    "    ax = axes[1]\n",
    "    male_X = X[predicted_y == 1]\n",
    "    female_X = X[predicted_y == -1]\n",
    "    ax.scatter(x=male_X[:,1], y=male_X[:,0], c=\"blue\", label=\"Male\")\n",
    "    ax.scatter(x=female_X[:,1], y=female_X[:,0], c=\"red\", label=\"Female\")\n",
    "    ax.set(xlabel=\"Platelets\", ylabel=\"Ejection Fraction\", title=\"Predicted labels\")\n",
    "    ax.grid(True)\n",
    "    ax.legend()\n",
    "\n",
    "    if title != \"\":\n",
    "        plt.suptitle(title)\n",
    "\n",
    "    return plt.show()\n"
   ]
  },
  {
   "cell_type": "code",
   "execution_count": 14,
   "metadata": {},
   "outputs": [
    {
     "data": {
      "image/png": "[encoded data removed]",
      "text/plain": [
       "<Figure size 720x360 with 2 Axes>"
      ]
     },
     "metadata": {
      "needs_background": "light"
     },
     "output_type": "display_data"
    }
   ],
   "source": [
    "visualize_and_compare_classifications(X_test.values, y_test.values, y_pred, title=\"Real and predicted classes for the test\")"
   ]
  },
  {
   "cell_type": "code",
   "execution_count": 15,
   "metadata": {},
   "outputs": [],
   "source": [
    "def visualize_and_compare_decision_boundaries(X, real_y, classifier, title=\"\", step=0.005):\n",
    "    \"\"\"\n",
    "    Function based on the example from \n",
    "    https://scikit-learn.org/stable/auto_examples/ensemble/plot_voting_decision_regions.html\n",
    "    \n",
    "    Input:\n",
    "        X: (np.array[N,2]) - The dataset to visualize (only 2 features)\n",
    "        real_y: (np.array[N,1]) - Real class labels from X\n",
    "        classifier: (sklearn-object) - Object that classifies the data\n",
    "    Returns:\n",
    "        A plot with two axes showing the decision boundaries\n",
    "    \"\"\"\n",
    "    real_y = np.where(real_y == 1, -1, 1)\n",
    "    # Plotting decision regions\n",
    "    x_min, x_max = X[:, 0].min() - 0.5, X[:, 0].max() + 0.5\n",
    "    y_min, y_max = X[:, 1].min() - 0.5, X[:, 1].max() + 0.5\n",
    "\n",
    "    # We are creating a 2D grid of test data to be able to show the decision boundaries\n",
    "    xx, yy = np.meshgrid(np.arange(x_min, x_max, step), np.arange(y_min, y_max, step))\n",
    "\n",
    "    # And we apply the classifier to each sample in the 2D grid to see what would the prediction\n",
    "    # be at each specific point of the space\n",
    "    Z = dt_clf.predict(np.column_stack([xx.ravel(), yy.ravel()]))\n",
    "    Z = Z.reshape(xx.shape)\n",
    "\n",
    "    # Plot contains real class labels and \n",
    "    # the decision boundary created by the classifier\n",
    "    fig, ax = plt.subplots(figsize=(8,6))\n",
    "    ax.contourf(xx, yy, Z, alpha=0.3)\n",
    "    ax.scatter(x = X[:,0], y = X[:,1], c=real_y, s=30, edgecolor=\"k\", label=\"True class labels\")\n",
    "    ax.set(xlabel=\"Platelets\", ylabel=\"Ejection Fraction\")\n",
    "    ax.grid(True); ax.legend()\n",
    "\n",
    "    if title == \"\":\n",
    "        plt.suptitle(\"True class labels and predicted decision boundary\")\n",
    "    else:\n",
    "        plt.suptitle(title)\n",
    "\n",
    "    return plt.show()"
   ]
  },
  {
   "cell_type": "code",
   "execution_count": 16,
   "metadata": {
    "scrolled": true
   },
   "outputs": [
    {
     "name": "stderr",
     "output_type": "stream",
     "text": [
      "/Library/Frameworks/Python.framework/Versions/3.9/lib/python3.9/site-packages/sklearn/base.py:439: UserWarning: X does not have valid feature names, but DecisionTreeClassifier was fitted with feature names\n",
      "  warnings.warn(\n"
     ]
    },
    {
     "data": {
      "image/png": "[encoded data removed]",
      "text/plain": [
       "<Figure size 576x432 with 1 Axes>"
      ]
     },
     "metadata": {
      "needs_background": "light"
     },
     "output_type": "display_data"
    }
   ],
   "source": [
    "visualize_and_compare_decision_boundaries(X_test.values, y_test.values, y_pred)"
   ]
  },
  {
   "cell_type": "code",
   "execution_count": 17,
   "metadata": {},
   "outputs": [
    {
     "data": {
      "text/plain": [
       "[Text(0.4230769230769231, 0.875, 'x[1] <= -0.189\\ngini = 0.485\\nsamples = 80\\nvalue = [33, 47]'),\n",
       " Text(0.15384615384615385, 0.625, 'x[0] <= -0.798\\ngini = 0.431\\nsamples = 35\\nvalue = [11, 24]'),\n",
       " Text(0.07692307692307693, 0.375, 'gini = 0.0\\nsamples = 8\\nvalue = [0, 8]'),\n",
       " Text(0.23076923076923078, 0.375, 'x[0] <= -0.296\\ngini = 0.483\\nsamples = 27\\nvalue = [11, 16]'),\n",
       " Text(0.15384615384615385, 0.125, 'gini = 0.32\\nsamples = 5\\nvalue = [4, 1]'),\n",
       " Text(0.3076923076923077, 0.125, 'gini = 0.434\\nsamples = 22\\nvalue = [7, 15]'),\n",
       " Text(0.6923076923076923, 0.625, 'x[1] <= 0.73\\ngini = 0.5\\nsamples = 45\\nvalue = [22, 23]'),\n",
       " Text(0.5384615384615384, 0.375, 'x[0] <= -1.239\\ngini = 0.466\\nsamples = 27\\nvalue = [17, 10]'),\n",
       " Text(0.46153846153846156, 0.125, 'gini = 0.0\\nsamples = 5\\nvalue = [5, 0]'),\n",
       " Text(0.6153846153846154, 0.125, 'gini = 0.496\\nsamples = 22\\nvalue = [12, 10]'),\n",
       " Text(0.8461538461538461, 0.375, 'x[1] <= 2.574\\ngini = 0.401\\nsamples = 18\\nvalue = [5, 13]'),\n",
       " Text(0.7692307692307693, 0.125, 'gini = 0.36\\nsamples = 17\\nvalue = [4, 13]'),\n",
       " Text(0.9230769230769231, 0.125, 'gini = 0.0\\nsamples = 1\\nvalue = [1, 0]')]"
      ]
     },
     "execution_count": 17,
     "metadata": {},
     "output_type": "execute_result"
    },
    {
     "data": {
      "image/png": "[encoded data removed]",
      "text/plain": [
       "<Figure size 432x288 with 1 Axes>"
      ]
     },
     "metadata": {
      "needs_background": "light"
     },
     "output_type": "display_data"
    }
   ],
   "source": [
    "plot_tree(dt_clf)"
   ]
  },
  {
   "cell_type": "code",
   "execution_count": 18,
   "metadata": {},
   "outputs": [],
   "source": [
    "scaler = MinMaxScaler()\n",
    "\n",
    "data_norm_blobs_X = scaler.fit_transform(data_blobs_X)\n",
    "\n",
    "dblobs_norm_X_train, dblobs_norm_X_test, dblobs_y_train, dblobs_y_test = train_test_split(data_norm_blobs_X, \n",
    "                                                                                data_blobs_y,                                                                               test_size=0.3,\n",
    "                                                                                random_state=RANDOM_SEED)\n",
    "knn_classifier = KNeighborsClassifier(n_neighbors=1)\n",
    "knn_classifier.fit(dblobs_norm_X_train, dblobs_y_train)\n",
    "dblobs_y_predicted = knn_classifier.predict(dblobs_norm_X_test)"
   ]
  },
  {
   "cell_type": "code",
   "execution_count": 19,
   "metadata": {
    "scrolled": true
   },
   "outputs": [
    {
     "name": "stderr",
     "output_type": "stream",
     "text": [
      "/Library/Frameworks/Python.framework/Versions/3.9/lib/python3.9/site-packages/sklearn/base.py:439: UserWarning: X does not have valid feature names, but DecisionTreeClassifier was fitted with feature names\n",
      "  warnings.warn(\n"
     ]
    },
    {
     "data": {
      "image/png": "[encoded data removed]",
      "text/plain": [
       "<Figure size 576x432 with 1 Axes>"
      ]
     },
     "metadata": {
      "needs_background": "light"
     },
     "output_type": "display_data"
    }
   ],
   "source": [
    "visualize_and_compare_decision_boundaries(dblobs_norm_X_test, dblobs_y_test, knn_classifier)"
   ]
  },
  {
   "cell_type": "code",
   "execution_count": 20,
   "metadata": {
    "scrolled": true
   },
   "outputs": [
    {
     "name": "stdout",
     "output_type": "stream",
     "text": [
      "According to the RF classifier, the class labels in the test set are:  [ 1 -1  1  1 -1  1  1  1  1  1 -1 -1  1  1  1 -1 -1  1 -1  1]\n"
     ]
    }
   ],
   "source": [
    "rf_classifier = RandomForestClassifier(n_estimators=10, max_depth=3, criterion=\"entropy\")\n",
    "rf_classifier.fit(X_train, y_train)\n",
    "y_predicted = rf_classifier.predict(X_test)\n",
    "print(\"According to the RF classifier, the class labels in the test set are: \", y_predicted)\n"
   ]
  },
  {
   "cell_type": "code",
   "execution_count": 21,
   "metadata": {
    "scrolled": true
   },
   "outputs": [
    {
     "name": "stderr",
     "output_type": "stream",
     "text": [
      "/Library/Frameworks/Python.framework/Versions/3.9/lib/python3.9/site-packages/sklearn/base.py:439: UserWarning: X does not have valid feature names, but DecisionTreeClassifier was fitted with feature names\n",
      "  warnings.warn(\n"
     ]
    },
    {
     "data": {
      "image/png": "[encoded data removed]",
      "text/plain": [
       "<Figure size 576x432 with 1 Axes>"
      ]
     },
     "metadata": {
      "needs_background": "light"
     },
     "output_type": "display_data"
    }
   ],
   "source": [
    "visualize_and_compare_decision_boundaries(X_test.values, y_test, rf_classifier)"
   ]
  }
 ],
 "metadata": {
  "colab": {
   "authorship_tag": "ABX9TyOJqeUvkGzK/I6tPd4/PYBU",
   "provenance": []
  },
  "kernelspec": {
   "display_name": "Python 3",
   "language": "python",
   "name": "python3"
  },
  "language_info": {
   "codemirror_mode": {
    "name": "ipython",
    "version": 3
   },
   "file_extension": ".py",
   "mimetype": "text/x-python",
   "name": "python",
   "nbconvert_exporter": "python",
   "pygments_lexer": "ipython3",
   "version": "3.9.13"
  }
 },
 "nbformat": 4,
 "nbformat_minor": 1
}
